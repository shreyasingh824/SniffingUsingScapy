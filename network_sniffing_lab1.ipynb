{
 "cells": [
  {
   "cell_type": "markdown",
   "id": "2f381cff",
   "metadata": {},
   "source": [
    "# <p style=\"color: red;\"> install libcap for Ubuntu and npcap for Windows</p>\n"
   ]
  },
  {
   "cell_type": "markdown",
   "id": "a9dc8661",
   "metadata": {},
   "source": [
    "**Scapy is a powerful and flexible Python library for packet manipulation, network scanning, and network discovery. It allows users to create, send, capture, and analyze network packets, making it a versatile tool for network-related tasks such as packet crafting, network testing, and protocol development. Scapy supports a wide range of protocols and can be used for tasks like sniffing, forging, and decoding network packets at various layers of the OSI model.**"
   ]
  },
  {
   "cell_type": "markdown",
   "id": "264fb676",
   "metadata": {},
   "source": [
    "# Documentation for Scapy\n",
    "## https://scapy.readthedocs.io/en/latest/introduction.html"
   ]
  },
  {
   "cell_type": "markdown",
   "id": "aa7d3553",
   "metadata": {},
   "source": [
    "# A function to output all the connected networks"
   ]
  },
  {
   "cell_type": "markdown",
   "id": "bf8b6d19",
   "metadata": {},
   "source": [
    "<b>scapy.get_if_list()------</b>The get_if_list() function in Scapy is used to retrieve a list of available network interfaces on the system. Each network interface represents a network connection or device on the computer, such as Ethernet, Wi-Fi, or loopback interfaces."
   ]
  },
  {
   "cell_type": "code",
   "execution_count": 1,
   "id": "1034a4f4",
   "metadata": {
    "scrolled": false
   },
   "outputs": [
    {
     "name": "stdout",
     "output_type": "stream",
     "text": [
      "Interfaces: ['{EF5F5E1C-7A87-4DD4-B6E4-1BD91ADB977D}', '{499304C3-44A3-4450-A94F-17319A044A6F}', '{E9180E80-5E66-4190-B355-0FFFDE772F2F}', '{611BD608-8C30-41FE-977C-9C6560B27792}', '{9F0DA7AC-8C69-4060-B6EA-67E5574FB4C6}', '{BB673480-F05F-4FFC-B713-41F254E77690}', '{ACB519CD-28B0-4D03-B936-F6E88F185B4F}', '{6389DA15-19B0-4A77-95AD-8CEA738C5A9B}', '{3ED4454F-3BD1-4658-9FD6-9BE77121568A}', '\\\\Device\\\\NPF_Loopback']\n",
      "['{EF5F5E1C-7A87-4DD4-B6E4-1BD91ADB977D}', '{499304C3-44A3-4450-A94F-17319A044A6F}', '{E9180E80-5E66-4190-B355-0FFFDE772F2F}', '{611BD608-8C30-41FE-977C-9C6560B27792}', '{9F0DA7AC-8C69-4060-B6EA-67E5574FB4C6}', '{BB673480-F05F-4FFC-B713-41F254E77690}', '{ACB519CD-28B0-4D03-B936-F6E88F185B4F}', '{6389DA15-19B0-4A77-95AD-8CEA738C5A9B}', '{3ED4454F-3BD1-4658-9FD6-9BE77121568A}', '\\\\Device\\\\NPF_Loopback']\n"
     ]
    }
   ],
   "source": [
    "import scapy.all as scapy\n",
    "\n",
    "def get_all_interfaces():\n",
    "    interfaces = scapy.get_if_list()\n",
    "    print(\"Interfaces:\", interfaces)\n",
    "    return interfaces\n",
    "\n",
    "print(get_all_interfaces())"
   ]
  },
  {
   "cell_type": "markdown",
   "id": "f049740c",
   "metadata": {},
   "source": [
    "<b>IP (Internet Protocol):</b>\n",
    "\n",
    "This module is part of Scapy and represents the IP (Internet Protocol) layer. It allows you to create, manipulate, and work with IP packets. In this context, it is used to construct IP packets.\n",
    "\n",
    "<b>ICMP (Internet Control Message Protocol):</b>\n",
    "\n",
    "Another module from Scapy, ICMP represents the ICMP layer. ICMP is used for network-related control and error messages. The ICMP module in Scapy allows you to work with ICMP packets.\n",
    "\n",
    "<b>  send function:\n",
    "</b>\n",
    "\n",
    "The send function is a general-purpose sending function in Scapy. It is used to send packets over the network. In this case, it is likely used to send the constructed IP and ICMP packets created using the IP and ICMP modules."
   ]
  },
  {
   "cell_type": "code",
   "execution_count": 2,
   "id": "076ab23c",
   "metadata": {},
   "outputs": [],
   "source": [
    "from scapy.all import IP, ICMP, send"
   ]
  },
  {
   "cell_type": "markdown",
   "id": "c0211b76",
   "metadata": {},
   "source": [
    "# creating a new packet on ip protocol"
   ]
  },
  {
   "cell_type": "code",
   "execution_count": 3,
   "id": "b659dd0d",
   "metadata": {},
   "outputs": [],
   "source": [
    "packet = IP(dst=\"www.google.com\") / ICMP()"
   ]
  },
  {
   "cell_type": "code",
   "execution_count": 4,
   "id": "4138ab14",
   "metadata": {},
   "outputs": [
    {
     "data": {
      "text/plain": [
       "'IP / ICMP 172.18.9.104 > Net(\"www.google.com/32\") echo-request 0'"
      ]
     },
     "execution_count": 4,
     "metadata": {},
     "output_type": "execute_result"
    }
   ],
   "source": [
    "packet.summary()"
   ]
  },
  {
   "cell_type": "markdown",
   "id": "df53cb9d",
   "metadata": {},
   "source": [
    "# showing the information about the created packet"
   ]
  },
  {
   "cell_type": "code",
   "execution_count": 5,
   "id": "6ff558d0",
   "metadata": {
    "scrolled": false
   },
   "outputs": [
    {
     "name": "stdout",
     "output_type": "stream",
     "text": [
      "###[ IP ]### \n",
      "  version   = 4\n",
      "  ihl       = None\n",
      "  tos       = 0x0\n",
      "  len       = None\n",
      "  id        = 1\n",
      "  flags     = \n",
      "  frag      = 0\n",
      "  ttl       = 64\n",
      "  proto     = icmp\n",
      "  chksum    = None\n",
      "  src       = 172.18.9.104\n",
      "  dst       = Net(\"www.google.com/32\")\n",
      "  \\options   \\\n",
      "###[ ICMP ]### \n",
      "     type      = echo-request\n",
      "     code      = 0\n",
      "     chksum    = None\n",
      "     id        = 0x0\n",
      "     seq       = 0x0\n",
      "     unused    = ''\n",
      "\n"
     ]
    }
   ],
   "source": [
    "packet.show()"
   ]
  },
  {
   "cell_type": "code",
   "execution_count": 6,
   "id": "6aa54e5c",
   "metadata": {
    "scrolled": true
   },
   "outputs": [
    {
     "name": "stdout",
     "output_type": "stream",
     "text": [
      "\n",
      "Sent 1 packets.\n"
     ]
    }
   ],
   "source": [
    "send(packet)\n"
   ]
  },
  {
   "cell_type": "markdown",
   "id": "b34c6626",
   "metadata": {},
   "source": [
    "### use the sr1 which stands for send requet 1 for responses"
   ]
  },
  {
   "cell_type": "markdown",
   "id": "49895f9b",
   "metadata": {},
   "source": [
    "# Using the sniff function to sniff packets"
   ]
  },
  {
   "cell_type": "markdown",
   "id": "ab59fae9",
   "metadata": {},
   "source": [
    "**Docstring:**\n",
    "*Sniff packets and return a list of packets.*\n",
    "\n",
    "**Args:**\n",
    "- `count`: *number of packets to capture. 0 means infinity.*\n",
    "- `store`: *whether to store sniffed packets or discard them*\n",
    "- `prn`: *function to apply to each packet. If something is returned, it is displayed.*\n",
    "  - *Ex: `prn = lambda x: x.summary()`*\n",
    "- `session`: *a session = a flow decoder used to handle the stream of packets.*\n",
    "  - *Ex: `session=TCPSession`*\n",
    "  - *See below for more details.*\n",
    "- `filter`: *BPF filter to apply.*\n",
    "- `lfilter`: *Python function applied to each packet to determine if further action may be done.*\n",
    "  - *Ex: `lfilter = lambda x: x.haslayer(Padding)`*\n",
    "- `offline`: *PCAP file (or list of PCAP files) to read packets from, instead of sniffing them*\n",
    "- `quiet`: *when set to True, the process stderr is discarded (default: False).*\n",
    "- `timeout`: *stop sniffing after a given time (default: None).*\n",
    "- `L2socket`: *use the provided L2socket (default: use `conf.L2listen`).*\n",
    "- `opened_socket`: *provide an object (or a list of objects) ready to use `.recv()` on.*\n",
    "- `stop_filter`: *Python function applied to each packet to determine if we have to stop the capture after this packet.*\n",
    "  - *Ex: `stop_filter = lambda x: x.haslayer(TCP)`*\n",
    "- `iface`: *interface or list of interfaces (default: None for sniffing on all interfaces).*\n",
    "- `monitor`: *use monitor mode. May not be available on all OS*\n",
    "- `started_callback`: *called as soon as the sniffer starts sniffing (default: None).*\n",
    "\n",
    "**Examples: synchronous**\n",
    "- `sniff(filter=\"arp\")`\n",
    "- `sniff(filter=\"tcp\", session=IPSession, prn=lambda x: x.summary())`\n",
    "- `sniff(lfilter=lambda pkt: ARP in pkt)`\n",
    "- `sniff(iface=\"eth0\", prn=Packet.summary)`\n",
    "- `sniff(iface=[\"eth0\", \"mon0\"], prn=lambda pkt: \"%s: %s\" % (pkt.sniffed_on, pkt.summary()))`\n",
    "- `sniff(iface={\"eth0\": \"Ethernet\", \"mon0\": \"Wifi\"}, prn=lambda pkt: \"%s: %s\" % (pkt.sniffed_on, pkt.summary()))`\n",
    "\n",
    "**Examples: asynchronous**\n",
    "- `t = AsyncSniffer(iface=\"enp0s3\")`\n",
    "- `t.start()`\n",
    "- `time.sleep(1)`\n",
    "- `print(\"nice weather today\")`\n",
    "- `t.stop()`\n"
   ]
  },
  {
   "cell_type": "code",
   "execution_count": 7,
   "id": "d26132e6",
   "metadata": {},
   "outputs": [],
   "source": [
    "from scapy.all import sniff\n",
    "\n",
    "captured_packets = sniff(count=5)  # Capture 5 packets\n"
   ]
  },
  {
   "cell_type": "code",
   "execution_count": 8,
   "id": "fcc835c4",
   "metadata": {},
   "outputs": [
    {
     "name": "stdout",
     "output_type": "stream",
     "text": [
      "0000 Ether / IP / UDP 172.18.9.104:65306 > 142.250.82.149:3478 / Raw\n",
      "0001 Ether / IP / UDP 142.250.82.149:3478 > 172.18.9.104:65306 / Raw\n",
      "0002 Ether / IP / ICMP 216.58.221.36 > 172.18.9.104 echo-reply 0\n",
      "0003 Ether / IP / UDP 172.18.9.104:64361 > 142.250.82.149:3478 / Raw\n",
      "0004 Ether / IP / UDP 172.18.9.104:64361 > 142.250.82.149:3478 / Raw\n"
     ]
    }
   ],
   "source": [
    "captured_packets.show()"
   ]
  },
  {
   "cell_type": "markdown",
   "id": "9ede762e",
   "metadata": {},
   "source": [
    "## Communication Events Overview\n",
    "\n",
    "So, what is all that? Here, each entry describes a communication event between different IP addresses and ports using either IPv4 or IPv6. Let's break down what each line signifies:\n",
    "\n",
    "- **Loopback:**\n",
    "  - Indicates that the communication is happening within the same machine, often referred to as the loopback interface (127.0.0.1 for IPv4 or ::1 for IPv6). The loopback interface is used for internal testing and communication within the local device.\n",
    "\n",
    "- **IP:**\n",
    "  - Refers to the Internet Protocol, either IPv4 or IPv6, specifying the version of the IP protocol being used.\n",
    "\n",
    "- **TCP:**\n",
    "  - Indicates that the communication is using the Transmission Control Protocol (TCP), a connection-oriented protocol that provides reliable and ordered delivery of data.\n",
    "\n",
    "- **Source and Destination Addresses and Ports:**\n",
    "  - The IP addresses and port numbers indicate the source and destination of the communication.\n",
    "  - For example, `127.0.0.1:54207 > 127.0.0.1:54183` means that data is being sent from port 54207 on the loopback interface to port 54183 on the same loopback interface.\n",
    "\n",
    "- **Flags (e.g., A, PA):**\n",
    "  - Flags represent the status or characteristics of the TCP packets. Common flags include:\n",
    "    - A (Ack): Acknowledgment flag, indicating that the receiving party has successfully received a packet.\n",
    "    - PA (Push Ack): Indicates both acknowledgment and a request to push the data to the application.\n",
    "\n",
    "- **Raw Data:**\n",
    "  - Some entries include \"Raw\" to indicate that the payload or data of the TCP packet is included in the capture.\n",
    "\n",
    "- **Direction (e.g., >):**\n",
    "  - The direction arrow (>) indicates the flow of communication from the source to the destination.\n"
   ]
  },
  {
   "cell_type": "markdown",
   "id": "38a6844f",
   "metadata": {},
   "source": [
    "# filter Keyword\n",
    "### This expression filters the packets at the operating system's level before Scapy processes them. It allows you to capture only the packets that match the specified criteria."
   ]
  },
  {
   "cell_type": "markdown",
   "id": "0c23e7c4",
   "metadata": {},
   "source": [
    "# sniffing only the tcp packet using filters"
   ]
  },
  {
   "cell_type": "code",
   "execution_count": 9,
   "id": "b536d260",
   "metadata": {},
   "outputs": [],
   "source": [
    "tcp_packets=sniff(count=5, filter='tcp')"
   ]
  },
  {
   "cell_type": "code",
   "execution_count": 10,
   "id": "888114de",
   "metadata": {},
   "outputs": [
    {
     "data": {
      "text/plain": [
       "<Sniffed: TCP:5 UDP:0 ICMP:0 Other:0>"
      ]
     },
     "execution_count": 10,
     "metadata": {},
     "output_type": "execute_result"
    }
   ],
   "source": [
    "tcp_packets"
   ]
  },
  {
   "cell_type": "code",
   "execution_count": 11,
   "id": "2915ad27",
   "metadata": {
    "scrolled": true
   },
   "outputs": [
    {
     "name": "stdout",
     "output_type": "stream",
     "text": [
      "0000 Ether / IP / TCP 172.18.9.104:56468 > 91.108.23.100:https S\n",
      "0001 Ether / IP / TCP 172.18.9.104:56469 > 91.108.23.100:http S\n",
      "0002 Ether / IP / TCP 172.18.9.104:54326 > 142.250.194.174:https A / Raw\n",
      "0003 Ether / IP / TCP 172.18.9.104:54326 > 142.250.194.174:https PA / Raw\n",
      "0004 Ether / IP / TCP 172.18.9.104:54326 > 142.250.194.174:https PA / Raw\n"
     ]
    }
   ],
   "source": [
    "tcp_packets.show()"
   ]
  },
  {
   "cell_type": "markdown",
   "id": "b71320c0",
   "metadata": {},
   "source": [
    "# Sniffing on the udp packets"
   ]
  },
  {
   "cell_type": "code",
   "execution_count": 12,
   "id": "8d6343af",
   "metadata": {},
   "outputs": [],
   "source": [
    "udp_packets=sniff(count=5, filter='udp')"
   ]
  },
  {
   "cell_type": "code",
   "execution_count": 13,
   "id": "a3c48f9c",
   "metadata": {},
   "outputs": [
    {
     "data": {
      "text/plain": [
       "<Sniffed: TCP:0 UDP:5 ICMP:0 Other:0>"
      ]
     },
     "execution_count": 13,
     "metadata": {},
     "output_type": "execute_result"
    }
   ],
   "source": [
    "udp_packets"
   ]
  },
  {
   "cell_type": "code",
   "execution_count": 14,
   "id": "bc3ec1c7",
   "metadata": {},
   "outputs": [
    {
     "name": "stdout",
     "output_type": "stream",
     "text": [
      "0000 Ether / IP / UDP 172.18.9.104:65306 > 142.250.82.149:3478 / Raw\n",
      "0001 Ether / IP / UDP 172.18.9.104:64361 > 142.250.82.149:3478 / Raw\n",
      "0002 Ether / IP / UDP 142.250.82.149:3478 > 172.18.9.104:65306 / Raw\n",
      "0003 Ether / IP / UDP 142.250.82.149:3478 > 172.18.9.104:64361 / Raw\n",
      "0004 Ether / IP / UDP 172.18.9.104:65306 > 142.250.82.149:3478 / Raw\n"
     ]
    }
   ],
   "source": [
    "udp_packets.show()"
   ]
  },
  {
   "cell_type": "markdown",
   "id": "a296437e",
   "metadata": {},
   "source": [
    "# using the prn function"
   ]
  },
  {
   "cell_type": "code",
   "execution_count": 15,
   "id": "2a0cc705",
   "metadata": {},
   "outputs": [
    {
     "name": "stdout",
     "output_type": "stream",
     "text": [
      "###[ Ethernet ]### \n",
      "  dst       = 30:86:2d:ae:85:a1\n",
      "  src       = 04:33:c2:5a:eb:4b\n",
      "  type      = IPv4\n",
      "###[ IP ]### \n",
      "     version   = 4\n",
      "     ihl       = 5\n",
      "     tos       = 0x0\n",
      "     len       = 1030\n",
      "     id        = 43656\n",
      "     flags     = \n",
      "     frag      = 0\n",
      "     ttl       = 128\n",
      "     proto     = udp\n",
      "     chksum    = 0xf554\n",
      "     src       = 172.18.9.104\n",
      "     dst       = 142.250.82.149\n",
      "     \\options   \\\n",
      "###[ UDP ]### \n",
      "        sport     = 64361\n",
      "        dport     = 3478\n",
      "        len       = 1010\n",
      "        chksum    = 0x23fd\n",
      "###[ Raw ]### \n",
      "           load      = '\\\\x90\\\\xe0)\\\\xe3Q\\\\xf8\\\\x9c\\\\xa5\\\\xdf\\\\xc0/\\x05\\x10\\x00\\x00\\x04\\x02\\x03\\x14\\\\xfd\\\\xae\\x03\\x020`\\x0f\\x03\\\\xc2J\\\\xeb\\x00\\x00\\\\xacu\\\\xd9ߤ\\ng\\x03}\\x06\\\\xec\\\\xaak\\\\xbb\\\\x8e/\\\\xea|\\\\x9d\\\\x81ƗBT\\\\xac\\\\xb3\\\\xad\\\\xbc\\x14/z\\\\x82p\\\\xdeh\\\\xf3\\\\xdf\\\\xc8-X\\\\xe0\\\\xb1i\\x0c\\\\xe7\\\\x99 I\\\\xf2\\\\xdf\\x153\\\\xc8\\x0c\\\\xbf\\\\x84\\\\xbeL\\\\x9cz\\\\xaaE%\\\\xe6\\\\x9dX\\\\xd9%#\\\\xfd\\\\xf0\\x06\\\\x9c${\\\\xf8\\\\xb2\\\\xd3+\\\\xc9~\\\\x98Z<\\\\xb0\\\\xb8\\x18\\\\xd5\\\\xfc\\\\x81\\\\xab4\\\\x89Դr\\\\xb5\\\\x85\\\\xa0\\\\xc8\\\\xcb\\\\xd8t\\\\xfc\\\\xffE\\\\x9f\\x03D-)\\x13\\\\x9a\\\\xa5\\x1d\\\\x8c\\\\xf5{\\\\xa4pr\\\\xcc\\x19\\x1e\\\\xf0\\\\x91l\\\\xf2O\\x07\\\\x98[z\\\\x8b\\\\xbc\\x11\\\\xb7b0\\x04l\\x17\\\\x97,\\\\x9c\\\\xe4|\\\\x80\\\\xday烠n\\\\x91YL\\\\xbd\\\\x9f\\\\xd8\"I\\\\x8d\\x1b\\n7\\\\xb9Q4!\\\\xaa\\\\xa6\\\\xf3\\\\xc7u\\u074b\\\\x85d\\\\xd2F$K\\\\xd6\\\\xfd\\x1a\\\\xc4q\\r`\\\\\\\\xba\\\\xf3k\\\\xe7\\\\xff\\\\xd9\\x1f\\\\xbd\\\\xfdk&\\x00\\\\x97b\\\\xcc\\\\xc7Ux\\\\xb1\\\\xfa\\\\xc4\\x1b\\\\xfc;\\x1c\\\\xe0\\x13\\\\x8e\\\\xc6y\\\\xce7\\\\xf8$\\\\xf7\\\\xbd\\x03#\\\\x88vn\\x16\\\\xefD\\\\xb20\\x0f\\\\xca\\x01\\\\xa2\\x04x\\\\x87R\\\\x80v\\\\xdaS\\\\xd5\\rB!()&;\\x19\\\\xae\\\\xf7\\\\xd5ݙ\\\\xb2C/\\\\x96\\\\xb6I\\\\xef\\\\x85W\\\\xe8\\x1f)\\x7f\\x1a<s\\\\xa3\\\\x96\\\\xde\\\\xc1H\\x12&\\x13\\x001\\\\xe0\\\\xcf.\\\\xf7\\\\x9c\\x1d\\nwo\\x7f\\\\xd6\\\\xcb\\\\xe4\\\\xa84v\\\\xa7\\\\xbe\\\\x94T\\x01\\\\xd0q\\\\x92\\\\xe4\\\\xfe\\\\xc0\\\\x90\\x0f\\\\xdcD\\\\x81T\\x01\\\\x91*\\\\xc5J\\\\xbe\\\\x847\\\\xd1p\\\\xea/lrp\\x0c8\\x18`\\\\xa5A\\\\xb0\\x04\\x14t\\x17\\\\x8b\\\\xf1\\\\xdd?7$\\\\xed\\\\xcf*\\\\xc7TQ|ܩ8ڂ\\\\xdec\\x03\\\\xd17\\\\xca\\\\xcfJi;\\\\xa5k\\x01Os\\\\x8dO4Mv\\\\xae\\x16ud;\\\\xc8\\\\xe4\\\\xaeO\\x12\\x0f\\\\x82uQ\\\\x85\\\\xab\\\\xd7zG\\\\x87&\\\\xbb\\x06\\\\xd7V\\x03\\\\x8dϬc\\\\xfc\\x1c\\x00[\\\\xf6j\\x1eVX\\\\xa5\\x17s$n\\'\\\\xf1\\\\xd0\\x17\\x1c\\\\xa6\\\\xebS~v\\\\x8b\\x01\\\\xc21\\\\xb7J\\\\xd4S\\\\xd3\\\\xd4)M\\\\xfd#)&\\\\xb9\\\\x9a\\\\xdf\\\\xc8\\\\xf8$E\\\\xab\\\\xfb\\\\x87\\\\x81ϖ\\\\xf5ԳPἂ\\x0c\\\\x8bI\\x07\\\\xb8\\x1bg2\\\\xcaA\\\\xb4\\\\x8f\\\\xe89\\\\\\\\xe3\\x7f\\\\xc8\\tP\\\\xee\\x10\\\\xe3M\\\\xb9p\\\\xfakլ\\x18판0\\\\xd4j\\\\xc7\\n{\\\\x83\\\\xf0\\x15\\\\x83\\\\xebf~\\\\xf0\\\\xc5\\\\xc69p\\x14\\\\xa4f\\\\x86\\\\xa3¬\\x0fd\\x0c\\\\xfc\\\\x9d%\\\\x8d\\\\xd2iӶL\\\\xc3\\x7f4\\\\xb5\\\\xe8j\\x0e\\\\xad_\\x1aG\\\\x8c\\x1d\\\\xba\\\\xb6\\\\xcaN|!6P\\x1a\\\\xb2X\\\\xd2\\\\xc93\\\\xe95ޡq\\\\xba\\\\xbb\\\\x87\\\\xf7K\\\\x89\\\\x91\\rG\\\\xa3$\\\\xe0\\x04)\\\\xebc\\\\xb1+늹ؐ\\\\xbb\\\\xeb\\\\xdd?\\\\xb7\\x0c\\\\x85\\\\x8c\\\\x87z\\\\xb9\\\\x84}c^\"\\\\xa8`\\x12\\x15\\x1f\\\\xc6}\\\\x90\\\\xf2\\\\xf8\\\\xbc\\x7f\\\\xfc\\\\x95\\\\xaa\\\\x92C23-\\\\xa7\\\\x89\\x14\\x0ez]\\\\xd3Q\\x12O\\x13q\\\\x99r\\\\x8cw(Zlr\\x11܅\\\\xa32\\\\xcd4Z\\\\xa0ӓO͈otV\\\\xa6*\\\\x84\\\\x91\\\\xaf\\\\xfe\\\\xf9h\\\\xe8-\\\\x88\\\\x88\\\\xbb\\x06\\\\xe31p\\\\xb1\\\\x85Mŷ}\\\\xf9\\\\xbeĪ\\x18\\\\xb9\\\\xf4#\\\\xd2Q\\\\xdeż%ʡ\\\\xa6j\\\\xc8E@M\\x1d\\x05퍘\\x00\\\\xae\\x0c\\\\xd5\\\\xd4\\\\xc8Pg=_\\\\xa9\\\\xea\\x14\\\\xda\\\\xeb\\\\xcen\\\\xd5%\\\\xfb\\\\x81\\\\xef\\\\xd8>\\\\xd5d7\\x0c\\x02F\\x1eH\\\\xf8\\x01-\\\\x81\\\\x8a\\x04\\x1b\\x18,\\x08\\t\\\\x9c\\\\xd3\\\\xc9b\\\\x96\\\\xe5s\\\\xec\\\\xaf`\\\\xd2\\\\xf6\\\\xec\\\\xeb\\\\x8b\\x02\\\\xff|\\\\xd1\\\\xfdE\\\\xce&\\\\xe3\\\\xf2Gz,\\\\x9c\\x17*\\x19(\\\\x91cr^I\\\\xac\\\\xe8X\\\\xe2GA\\x0c\\\\x9d+@\\\\xa9/\\\\xd7W\\\\xa7\\\\xc0\\x1dAK\\x02\\\\xda,\\\\\\x141\\\\x9d\\\\xe4\\\\xba\\\\xf9\\\\x89O\\\\xbe\\x14\\\\xd6\\x1aF\\\\xb1\\\\xda9\\\\xd40\\\\xea\\\\x9a\\\\xeb\\x081\\\\xdb\\x16\\\\xc4D\\\\xb1ո\\\\xa9\\\\x8c\\\\x9fg\\x01\\\\xb5yӴj\\\\xd2\\\\xc6\\\\xf3\\\\xf2/\\\\xf71\\\\x94\\x7f\\x021\\\\x88\\\\xf3\\x14y\\\\xb0>\\\\xefv>\\\\xf8\\\\xcb\\\\xef\\\\x87\\\\xea\\\\xf9\\\\xa9g\\\\xe9\\\\xd6\\\\\\x17[X}V\\\\xa28\\\\xab\\\\xa4\\\\x8f-\\\\xea\\\\x86\\\\xe7\\\\xce\\\\xe7[.\\\\x85K`\\x00r\\\\xad\\\\\\x183D\\\\xddtO\\\\xf3\\\\xe3\\\\xf1\\\\xfa=~\\\\xf0\\x05\\x1f\\\\xa8Szg\\\\xc9Z\\\\xbeT\\\\xf8\\\\xe2\\\\xaeŢV\\\\x83>ŕ\\x1e\\\\x8eVZ\\\\xe7\\\\xce\\x9e\\\\x91\\\\xe4\\x17\\\\x9e'\n",
      "\n",
      "###[ Ethernet ]### \n",
      "  dst       = 04:33:c2:5a:eb:4b\n",
      "  src       = 30:86:2d:ae:85:a1\n",
      "  type      = IPv4\n",
      "###[ IP ]### \n",
      "     version   = 4\n",
      "     ihl       = 5\n",
      "     tos       = 0x0\n",
      "     len       = 92\n",
      "     id        = 56357\n",
      "     flags     = \n",
      "     frag      = 0\n",
      "     ttl       = 117\n",
      "     proto     = udp\n",
      "     chksum    = 0xd261\n",
      "     src       = 142.250.82.149\n",
      "     dst       = 172.18.9.104\n",
      "     \\options   \\\n",
      "###[ UDP ]### \n",
      "        sport     = 3478\n",
      "        dport     = 65306\n",
      "        len       = 72\n",
      "        chksum    = 0x936d\n",
      "###[ Raw ]### \n",
      "           load      = '\\\\x8d\\\\xcc\\x00\\x04\\\\xf9\\\\x96\\x1a\\x0c\\x1c\\x18\\n\\\\xaeu@ґ\\\\xd8J\\\\xc7\\r\\\\xa7\\\\x92\\\\xe4\\\\xa7\\\\xce]\\\\x8d1\\x08Y\\\\xce\\\\xcb\\\\xf9\\\\xb1\\\\xbb\\x158<\\\\x95\\\\xf3\\\\x89ƒ\\\\x99s\\\\xf4꺶\\\\xccΨ\\\\xe1\\\\xc7\\x7f\\\\x9e\\x0b\\\\xab\\\\xf2߀\\x01\\\\xf6r'\n",
      "\n",
      "###[ Ethernet ]### \n",
      "  dst       = 04:33:c2:5a:eb:4b\n",
      "  src       = 30:86:2d:ae:85:a1\n",
      "  type      = IPv4\n",
      "###[ IP ]### \n",
      "     version   = 4\n",
      "     ihl       = 5\n",
      "     tos       = 0x0\n",
      "     len       = 96\n",
      "     id        = 0\n",
      "     flags     = \n",
      "     frag      = 0\n",
      "     ttl       = 54\n",
      "     proto     = udp\n",
      "     chksum    = 0xed83\n",
      "     src       = 142.250.82.149\n",
      "     dst       = 172.18.9.104\n",
      "     \\options   \\\n",
      "###[ UDP ]### \n",
      "        sport     = 3478\n",
      "        dport     = 64361\n",
      "        len       = 76\n",
      "        chksum    = 0xbea\n",
      "###[ Raw ]### \n",
      "           load      = '\\\\x8d\\\\xcc\\x00\\x045w\\\\xda\\\\xe0\\\\x93\\x02ř\\\\xeea\\\\xb2\\\\xa1a /\\\\xf9\\\\xfa\\x7f\\\\xf8\\\\xba^\\\\x82n\\\\xf0\\\\xf9\\\\x83\\\\xce[\\\\xd2\\\\xf2)\\\\xf4\\\\xf5$k\\\\xc8\\\\xffpo\\\\x94\\\\x9b܂\\\\\\x06q)7\\\\xef\\\\xa8n\\\\xaf\\\\xf7Q\\x1a\\\\xa7\\\\x96\\x08N\\\\x87\\\\x80\\x01\\\\xb2T'\n",
      "\n",
      "###[ Ethernet ]### \n",
      "  dst       = 30:86:2d:ae:85:a1\n",
      "  src       = 04:33:c2:5a:eb:4b\n",
      "  type      = IPv4\n",
      "###[ IP ]### \n",
      "     version   = 4\n",
      "     ihl       = 5\n",
      "     tos       = 0x0\n",
      "     len       = 383\n",
      "     id        = 43657\n",
      "     flags     = \n",
      "     frag      = 0\n",
      "     ttl       = 128\n",
      "     proto     = udp\n",
      "     chksum    = 0xf7da\n",
      "     src       = 172.18.9.104\n",
      "     dst       = 142.250.82.149\n",
      "     \\options   \\\n",
      "###[ UDP ]### \n",
      "        sport     = 65306\n",
      "        dport     = 3478\n",
      "        len       = 363\n",
      "        chksum    = 0xba81\n",
      "###[ Raw ]### \n",
      "           load      = '\\\\x90⥏#\\\\xa4\\x16ȭE\\\\xc0\\\\x92\\x10\\x00\\x00\\x05\\x02\\x03\\x15\\x1dV\\x03\\x02\\x15\\n\\x0f\\x07\\\\xd7v\\\\xb5\\x1a \\x10\\x00\\x00\\x00w\\x1bAHV\\x7f\\\\xf3a\\\\xf7\\\\x82{\\\\x83\\x0fN\\\\x90\\\\xecp\\\\x82\\\\xc3c\\\\xf2\\x0e\\x1eN\\\\x98\\x12֍(\\\\x85\\x02\\\\xc1\\\\xbb\\\\xe0\\\\xf9RɀAS%\\\\xa8T\\\\xe0\\n\\\\xdaV\\\\x8bB\\\\xbf6!\\\\xebȋ\\\\xd0\\nT+\\\\x8f\\\\xf5\\\\x9e\\\\xd9+/a}z\\\\xb6}f0\\\\x86PeA&\\\\x904TQ\\\\xa6L\\\\xbdi\\\\xd2)Ù\\x1dZ\\\\xa4G\\x12\\\\xa5\\\\xe5\\x10\\\\xc2\\x1d\\x14{\\'\\x12\\\\xb3\\\\xe0)\\\\xbc\\\\x84;\\\\x9a\\rC\\\\xa4Eq\\\\xbb\\x03,#\\n=dX\"\\x13b?\\\\xda\\\\xe1\\\\xbd\\\\xce\\x11\\\\xbfwǫ\\\\xd5(\\\\x9a*\\\\xc0!IA\\\\xa6\\x01\\\\xf7*\\\\xcb\\\\xce\\\\xd4iP\\\\x83\\\\xe2\\\\xb2>\\\\xa4ݣ\\x0bsq\\\\\\\\xa6[,K\\x16=\\\\xb7\\\\xf9σ \\x17\\\\xeb;\\\\xc3\\\\xca\\\\xca\\\\xed\\\\xf2\\x1e\\x17\\\\x92\\\\x80\\x0e\\x14\\\\xaas\\\\xe3q\\\\xa1Ԫ\\\\xb3\\\\xf0\\\\xf47\\\\xf9\\\\x86\\\\xc9S\\\\xcb<\\\\xdcq\\\\xccT\\x7f\\\\xf0\\x0en\\\\xa2\\\\xdf<l\\\\x97\\\\x81\\\\x97\\x00=4\\\\xee\\\\xc5ݱ\"0\\\\xd5\\x1e\\\\x9d4X+ͧ\\x11\\\\xeej\\x04\\\\x89\\x1f8Z\\\\xeb\\x10r\\\\x94\\x0b:5\\\\x95>B>\\\\xf2\\\\xf9\\\\xee\\\\xa0\\\\xean:\\\\xbf\\\\x8b\\\\x93H\\\\xa28s\\x10\\\\x81\\\\xa6+\\\\x88W\\\\x800M^rՙHk:\\x14\\\\xe8\\\\xb8od\\t\\\\x9d\\\\xa9O\\\\\\\\xbc3\\\\xbb\\\\xf6Cz\\\\xcd\\r+\\\\xf79\\\\xef\\x1f}\\x15\\x04\\\\xde\\\\xf2\\\\xbb\\\\xf2C\\\\xa8'\n",
      "\n",
      "###[ Ethernet ]### \n",
      "  dst       = 30:86:2d:ae:85:a1\n",
      "  src       = 04:33:c2:5a:eb:4b\n",
      "  type      = IPv4\n",
      "###[ IP ]### \n",
      "     version   = 4\n",
      "     ihl       = 5\n",
      "     tos       = 0x0\n",
      "     len       = 1089\n",
      "     id        = 43658\n",
      "     flags     = \n",
      "     frag      = 0\n",
      "     ttl       = 128\n",
      "     proto     = udp\n",
      "     chksum    = 0xf517\n",
      "     src       = 172.18.9.104\n",
      "     dst       = 142.250.82.149\n",
      "     \\options   \\\n",
      "###[ UDP ]### \n",
      "        sport     = 64361\n",
      "        dport     = 3478\n",
      "        len       = 1069\n",
      "        chksum    = 0xcfd3\n",
      "###[ Raw ]### \n",
      "           load      = '\\\\x90\\\\xe0)\\\\xe4Q\\\\xf8\\\\xa7\\\\xe5\\\\xdf\\\\xc0/\\x05\\x10\\x00\\x00\\x04\\x02\\x03\\x15\\x1d\\\\x83\\x03\\x020a\\x0f\\x03\\\\xc4J\\\\xec\\x00\\x00\\\\xdb\\\\xff0\\\\x86\\x0c\\\\xe9ċ^\\\\xb3\\\\x9dD,\\\\xe7f\\\\xebF\\x08\\\\xac\\\\xfe\\\\x86\\x01R\\\\xfd\\\\xb2>i\\x1e\\\\xd9\\\\xe4\\\\xa2TV\\\\x92\\\\xee?\\\\xc4a\\x13\\\\x973\\\\xf7\\t\\x11*\\\\xa5T~E\\\\xfd\\x08\\\\xc0\\\\xe8c\\x1d~H5#1Uk!\\\\xc17Y\\x12D!\\x01G\\\\xdf\\\\xf2/,fv\\\\xe8\\\\xcczy\\x1a݄\\\\x9f!\\x1db\\\\xb4\\\\xd7^\\\\xa5\\x1c\\\\xca\\x1a\\\\xc4\\\\xffr~[\\x1be\\\\xa7\\\\xf2\\\\xd7 \\\\xf9\\\\xad\\x08\\\\xf9\\x17b\\\\xe2\\r\\\\xa2_8\\\\xbe\\\\x84\\'\\\\xf7$Ӥw\\x06\\\\xf4c/-\\\\xee \\\\xff\\\\xc2\\x13\\\\x8e\\\\xfa\\\\xb0\\\\x91.\\\\x88@\\x01\\\\xccA\\\\xe7\\\\xc0\\\\xa3\\\\xdbW\\\\x9a\\\\xb82*?\\\\xdew\\\\x93y Z&\\\\xfd\\\\xf6\\\\xd4\\x1f|\\\\xb9Apl>ң٪z\\\\xfa\\x10\\\\x89\\x13z\\\\x86),\\\\x97`\\\\x849\\\\xc3\\x15(|\\\\xfc\\\\xe8\\\\xce\\x1f\\\\xb9\\\\xb8\\x7f\\\\xeaJpJ{\\\\x93\\\\xcf&\\\\x8c\\\\xf3\\\\x85y({3\\\\xe9\\\\xe9\\\\x92\\\\xed\\\\xd2\\x05\\\\x85\\\\xa77.\\\\x99&\\\\xe6N\\\\xd2gu紻ӗ1\\x13\\x08\\\\xa3Ⴙ\\\\xccm\\\\x8e\\\\xce\\\\xdb\\x0f\\\\xd3X\\\\xd6k\\\\x940&̝di\\\\xec\\\\xc9\\\\xc0\\\\x98Dg\\\\xf8>Ea\\\\xd4\\\\xe4\\\\xad[p\\\\xc3(1\\\\x89\\\\xe51S\\\\x8f\\x12\\x05%h\\x7f\\\\xf4\\\\xfb5\\\\xc7\\\\xcc\\'_\\\\xa4\\\\x8e\\\\xa2ܸxͲOZJ8s^aPӚRw\\\\xe1\\'\\\\xfc\\\\x94I\\\\xd2\\x1do\\\\xb6;\\\\xfeo(\\x01K\\\\xc6\\x027\\\\xc0\\\\x96,\\x16\\\\xfc\\\\xd7\\x1b x\\\\xd3M\"\\x1fX\\\\xe6($\\\\xb7\\\\xacD\\\\xd1B\\\\xd1\\\\xe2\\\\xab\\\\xe1\\\\xb1I\\x037\\\\xb7=\\x0c\\\\x94\\x08\\\\x8c-\\\\xaf\\x17[\\x05r,}E6f6{\\\\x88\\\\xfe\\\\xa2\\\\xf3\\\\x83H\\\\x9a\\\\xf4\\x0ch r\\x1ex\\\\xf6\\\\x94u\\\\x8a\\\\xe0\"\\x02\\x11\\x03\\x13\\\\xcbdRW\\\\xa7\\\\xa6L\\x1e1\\\\xa2\\\\xd8\\'c\\\\x9fc\\x15\\\\xe5}zf\\\\x97\\\\xbd\\\\x9b\\\\xe4\\\\xce)\\\\xb2\\\\xd2\\\\xca)\\\\xe94\\\\xe2⮹S=P\\\\xdfh\\\\xe4\\x14\\\\xbdX\\\\xae{\\\\x89\\\\xf7\\\\xbe\\\\xb8SX\\x0b7w\\\\x8cĄ\\x08\\x00\\x06Ŕo\\\\xeevg\\\\xe2\\x0b\\\\xbdⅉj\\t\\\\xd2.z\\\\xa7FEo\\\\xa9\\\\x96W\\\\xe6f\\\\x8f\\x04cp\\\\x9a\\\\xa8\\r~\\\\x85\\\\x9f\\\\x80\\\\x9f\\x06\\\\xbc/\\\\xa5C[\\x13\\x08j\\\\x96\\\\xba\\\\xfe2\\r\\\\xda\\x1d\\\\xb7!ˊ\\x1d\\\\x91\\\\xbc#\\n\\\\x94\\\\xc2\\\\xe5\\\\x9aJ\\\\xe9=\\\\xef`\\x15\\\\xe1ƨsG\\\\x9c\\\\x9bǄ\\x1f:CeY\\x0e%^u\\x01\\\\xb0F\\\\xb2D\\\\xf3\\x7f\\x7f\\\\xc7dA\\\\xb5}+\\\\xbc\\\\xe3\\\\xa9kD@\\x1b(\\\\x9bIW|\\\\x91\\\\x88\\\\xb6\\\\xc7\\\\xe7\\\\x9fR\\x0eyז\\\\xf0\\\\xb1\\\\xec\\\\xe6լ}\\\\xb9\\\\xbaQǁ\\\\x85\\x17]\\\\x86Sf\\\\x8c4aMne\\\\xf02\\\\xb3\\\\xa7T\\\\xe57\\\\xfb\\\\x981\\\\xa0\\\\x92\\\\xd3!!\\\\xb7t|\\\\x93\\\\xe7\\x02X&\\\\xf0J|\\\\xd1\\\\xd6l\\\\xceѭ\\\\x9b\\\\x80.H\\x01\\\\x9dP \\\\xa0=\"\\\\xaa\\\\xc2v\\\\xf2\\\\xe2\\\\xb0\\\\xeb\\\\xa7ҁg\\x18\\\\xd1o\\x03\\\\x8b\\\\xa2\\r,(\\\\xed\\\\xebY\\\\xaa\\\\xaf\\\\x8a{u[\\\\x90r\\\\xbb\\\\x96h^ϦW)\\\\x98V\\\\xbd_ɟ\\\\x81snF\\\\x88\\\\xa3\\\\xac\\\\xc0\\\\x80\\\\xf5\\\\xf53j\\\\xdf/2\\\\xc8\\\\xd7\\\\xea\\\\xbb\\\\xf9\\\\xa2f1\\\\xe2\\\\xe9\\\\xf6\\\\x81\\\\xbbRv\\\\xe1D\"o\\\\xb6\\\\xe0\\n\\\\xde+\\x01\\x1e\\\\xa0\\\\x95[\\\\xc2\\\\xc0\\x06\\x06\\x01w%\\\\xf5;*l\\\\xdb\\x1c\\\\x8e5\\\\xbf<J\\\\xfe\\\\xe8J\\\\xbf\\\\x82,\\\\xe8]%\\\\xa4\\\\x88\\x06*\"\\x1e2\\\\x9a\\\\xab\\\\xb7U\\\\x8c\\x0e\\x0bmɍY\\x0e|\\\\xd9\\\\xe1.\\\\xda\\\\xc6x\\\\xb9I\\\\xa7\\\\\\\\xc9\\x03,\\\\xd1\\\\xc2ꑜ\\x12\\\\xe6^5\\\\xc6~\\\\\\\\xa3\\\\xe1\\\\x8c=j\\'\\\\xd2)\\\\xdd\\x06\\\\xb4\\x01\\\\xb4\\\\xe9YR\\\\x86\\x0e\\\\x87\\x1fM\\\\xc7ed\\\\x98\\x10Ũ\\\\x98v*?uwnIQK\\\\xe0\\\\xb6\\x19Î\\\\xbe\\x10\\\\xab\\\\xbc\\\\xb7\\\\xfa\\\\xeb\\\\x93\\\\xf0\\\\xde\\\\xc0\\\\xcc\\\\xd57˛\\x14\\\\xe3x\\\\xe78\\\\xa7K\\x7f-S(>\\\\xe9\\\\xe9\\x0e\\\\x9c\\\\xb4\\\\xe0Ge\\\\xf7K\\\\xb7Cm\\\\xbc\\x10\\nv6\\\\x8c\\\\xf0\\\\xd8\\\\xf6\\\\x94\\\\xf2ȑ\\\\xce\\\\xe4\\x14\\\\xd4\\\\xe84\\\\x9e\\\\x85\\\\xd9R\\\\xfaӉZ\\\\x89Y\\x10nY\\\\xcfz\\\\x82V\\'\\\\x87\\\\xecܵ\\\\xd0a\\\\xc6\\\\xff>\\\\xed\\x0f\\\\x9ee\\\\xb1\\x02\\x01\\\\xb7z\\x02\\\\x83I\\x06O>\\\\xad}\\\\xe2\\\\xd2\\\\xf4e0r\\\\xff\\\\x8e\\\\xca\\x17\\\\x91\\\\xcf}4\\\\xfdd\\\\xafZ\\\\xb3+\\x049\\\\xa60\\\\xf5\\\\xb8\\\\xae\\\\xf5\\\\xcd\\\\xeamMHq\\n\\\\xbdK>#\\\\x8e{\\\\xe2\\\\xe3\\\\x96\\\\xdf2\\\\x9aЃ\\\\xeb\\\\xddo\\\\xfd\\x08\\\\xd4\\\\xfe'\n"
     ]
    },
    {
     "name": "stdout",
     "output_type": "stream",
     "text": [
      "\n"
     ]
    }
   ],
   "source": [
    "captured_packets1=sniff(count=5, prn= lambda x: x.show())"
   ]
  },
  {
   "cell_type": "code",
   "execution_count": 16,
   "id": "87e70ec9",
   "metadata": {},
   "outputs": [],
   "source": [
    "def work_on_packets(packet):\n",
    "    print(\"this is a new packet\")\n",
    "    print(packet.summary())"
   ]
  },
  {
   "cell_type": "code",
   "execution_count": 17,
   "id": "a19527e8",
   "metadata": {},
   "outputs": [
    {
     "name": "stdout",
     "output_type": "stream",
     "text": [
      "this is a new packet\n",
      "Ether / IP / UDP 172.18.9.104:64361 > 142.250.82.149:3478 / Raw\n",
      "this is a new packet\n",
      "Ether / IP / TCP 142.250.194.174:https > 172.18.9.104:54326 PA / Raw\n",
      "this is a new packet\n",
      "Ether / IP / TCP 142.250.194.174:https > 172.18.9.104:54326 PA / Raw\n",
      "this is a new packet\n",
      "Ether / IP / TCP 142.250.194.174:https > 172.18.9.104:54326 PA / Raw\n",
      "this is a new packet\n",
      "Ether / IP / TCP 142.250.194.174:https > 172.18.9.104:54326 PA / Raw\n"
     ]
    },
    {
     "data": {
      "text/plain": [
       "<Sniffed: TCP:4 UDP:1 ICMP:0 Other:0>"
      ]
     },
     "execution_count": 17,
     "metadata": {},
     "output_type": "execute_result"
    }
   ],
   "source": [
    "sniff(count=5,prn=work_on_packets)"
   ]
  },
  {
   "cell_type": "markdown",
   "id": "c1997d31",
   "metadata": {},
   "source": [
    "# using the iface keyword to determine the interface for sniffing"
   ]
  },
  {
   "cell_type": "markdown",
   "id": "f093b8e7",
   "metadata": {},
   "source": [
    "### psutil.net_if_addrs() is used to retrieve network interface addresses on the system. It returns a dictionary where keys are the names of network interfaces, and values are lists of namedtuples representing the addresses associated with each interface."
   ]
  },
  {
   "cell_type": "code",
   "execution_count": 37,
   "id": "8e34ed1d",
   "metadata": {},
   "outputs": [
    {
     "name": "stdout",
     "output_type": "stream",
     "text": [
      "vEthernet (Default Switch) : [snicaddr(family=<AddressFamily.AF_LINK: -1>, address='00-15-5D-85-DF-A1', netmask=None, broadcast=None, ptp=None), snicaddr(family=<AddressFamily.AF_INET: 2>, address='172.19.192.1', netmask='255.255.240.0', broadcast=None, ptp=None), snicaddr(family=<AddressFamily.AF_INET6: 23>, address='fe80::cadd:1f0d:6e53:c278', netmask=None, broadcast=None, ptp=None)]\n",
      "Hamachi : [snicaddr(family=<AddressFamily.AF_LINK: -1>, address='7A-79-19-07-9C-0B', netmask=None, broadcast=None, ptp=None), snicaddr(family=<AddressFamily.AF_INET: 2>, address='25.7.156.11', netmask='255.0.0.0', broadcast=None, ptp=None), snicaddr(family=<AddressFamily.AF_INET6: 23>, address='2620:9b::1907:9c0b', netmask=None, broadcast=None, ptp=None), snicaddr(family=<AddressFamily.AF_INET6: 23>, address='fe80::e91e:f841:e6c9:5577', netmask=None, broadcast=None, ptp=None)]\n",
      "Local Area Connection* 1 : [snicaddr(family=<AddressFamily.AF_LINK: -1>, address='04-33-C2-5A-EB-4C', netmask=None, broadcast=None, ptp=None), snicaddr(family=<AddressFamily.AF_INET: 2>, address='169.254.249.114', netmask='255.255.0.0', broadcast=None, ptp=None), snicaddr(family=<AddressFamily.AF_INET6: 23>, address='fe80::21d4:a8ce:80aa:7226', netmask=None, broadcast=None, ptp=None)]\n",
      "Local Area Connection* 2 : [snicaddr(family=<AddressFamily.AF_LINK: -1>, address='06-33-C2-5A-EB-4B', netmask=None, broadcast=None, ptp=None), snicaddr(family=<AddressFamily.AF_INET: 2>, address='169.254.14.81', netmask='255.255.0.0', broadcast=None, ptp=None), snicaddr(family=<AddressFamily.AF_INET6: 23>, address='fe80::6887:f3f2:35ee:c5d4', netmask=None, broadcast=None, ptp=None)]\n",
      "Wi-Fi : [snicaddr(family=<AddressFamily.AF_LINK: -1>, address='04-33-C2-5A-EB-4B', netmask=None, broadcast=None, ptp=None), snicaddr(family=<AddressFamily.AF_INET: 2>, address='172.18.9.104', netmask='255.255.240.0', broadcast=None, ptp=None), snicaddr(family=<AddressFamily.AF_INET6: 23>, address='fe80::5:4352:2dc4:f56c', netmask=None, broadcast=None, ptp=None)]\n",
      "Bluetooth Network Connection : [snicaddr(family=<AddressFamily.AF_LINK: -1>, address='04-33-C2-5A-EB-4F', netmask=None, broadcast=None, ptp=None), snicaddr(family=<AddressFamily.AF_INET: 2>, address='169.254.72.72', netmask='255.255.0.0', broadcast=None, ptp=None), snicaddr(family=<AddressFamily.AF_INET6: 23>, address='fe80::e04c:8da2:e81:fd45', netmask=None, broadcast=None, ptp=None)]\n",
      "Loopback Pseudo-Interface 1 : [snicaddr(family=<AddressFamily.AF_INET: 2>, address='127.0.0.1', netmask='255.0.0.0', broadcast=None, ptp=None), snicaddr(family=<AddressFamily.AF_INET6: 23>, address='::1', netmask=None, broadcast=None, ptp=None)]\n",
      "\n",
      "\n",
      "Interface Names: ['vEthernet (Default Switch)', 'Hamachi', 'Local Area Connection* 1', 'Local Area Connection* 2', 'Wi-Fi', 'Bluetooth Network Connection', 'Loopback Pseudo-Interface 1']\n"
     ]
    }
   ],
   "source": [
    "import psutil\n",
    "\n",
    "def get_interface_names():\n",
    "    # Get a list of network interfaces using psutil\n",
    "    network_interfaces = psutil.net_if_addrs()\n",
    "    for i in network_interfaces:\n",
    "        print(i,\":\",network_interfaces[i])\n",
    "    # Extract names from the network interfaces list\n",
    "    interface_names = list(network_interfaces.keys())\n",
    "\n",
    "    # Print the list of interface names\n",
    "    print(\"\\n\\nInterface Names:\", interface_names)\n",
    "\n",
    "get_interface_names()\n"
   ]
  },
  {
   "cell_type": "code",
   "execution_count": 19,
   "id": "a7217e6c",
   "metadata": {
    "scrolled": true
   },
   "outputs": [],
   "source": [
    "captured_packets2=sniff(count=3,iface='Wi-Fi')"
   ]
  },
  {
   "cell_type": "code",
   "execution_count": 20,
   "id": "9f8ca5f8",
   "metadata": {},
   "outputs": [
    {
     "name": "stdout",
     "output_type": "stream",
     "text": [
      "0000 Ether / IP / UDP 172.18.9.104:65306 > 142.250.82.149:3478 / Raw\n",
      "0001 Ether / IP / UDP 142.250.82.149:3478 > 172.18.9.104:65306 / Raw\n",
      "0002 Ether / IP / UDP 172.18.9.104:64361 > 142.250.82.149:3478 / Raw\n"
     ]
    }
   ],
   "source": [
    "captured_packets2.show()"
   ]
  },
  {
   "cell_type": "markdown",
   "id": "7bf5caa6",
   "metadata": {},
   "source": [
    "# Apply Layer Filters: \n",
    "The <b>lfilter</b> parameter allows you to apply a Python function to each packet, determining if further action should be taken."
   ]
  },
  {
   "cell_type": "markdown",
   "id": "381488cb",
   "metadata": {},
   "source": [
    "### Allows you to specify a Python function that is applied to each packet after it has been captured by Scapy but before it is processed or displayed. The function should return True if the packet should be processed, and False if it should be ignored."
   ]
  },
  {
   "cell_type": "code",
   "execution_count": 21,
   "id": "0e6cd7dc",
   "metadata": {},
   "outputs": [],
   "source": [
    "from scapy.all import ARP"
   ]
  },
  {
   "cell_type": "code",
   "execution_count": 22,
   "id": "7fa8344a",
   "metadata": {},
   "outputs": [
    {
     "name": "stdout",
     "output_type": "stream",
     "text": [
      "Ether / ARP who has 172.18.13.167 says 172.18.0.1\n",
      "Ether / ARP who has 172.18.13.167 says 172.18.0.1\n",
      "Ether / ARP who has 172.18.13.167 says 172.18.0.1\n",
      "Ether / ARP who has 172.18.13.167 says 172.18.0.1\n",
      "Ether / ARP who has 172.18.13.167 says 172.18.0.1\n"
     ]
    }
   ],
   "source": [
    "arp_packets=sniff(lfilter=lambda x: x.haslayer(ARP), count=5, prn=lambda x: x.summary())\n"
   ]
  },
  {
   "cell_type": "markdown",
   "id": "206c6730",
   "metadata": {},
   "source": [
    "# using stop_filter\n",
    "### Python function applied to each packet to determine if we have to stop the capture after this packet."
   ]
  },
  {
   "cell_type": "code",
   "execution_count": 25,
   "id": "642a53a1",
   "metadata": {},
   "outputs": [],
   "source": [
    "from scapy.all import TCP"
   ]
  },
  {
   "cell_type": "code",
   "execution_count": 26,
   "id": "dd303f64",
   "metadata": {
    "scrolled": true
   },
   "outputs": [
    {
     "data": {
      "text/plain": [
       "<Sniffed: TCP:1 UDP:3 ICMP:0 Other:0>"
      ]
     },
     "execution_count": 26,
     "metadata": {},
     "output_type": "execute_result"
    }
   ],
   "source": [
    "sniff(stop_filter = lambda x: x.haslayer(TCP), timeout=5)"
   ]
  },
  {
   "cell_type": "markdown",
   "id": "2adf1f25",
   "metadata": {},
   "source": [
    "# Saving the packets in pcap file using wrcap"
   ]
  },
  {
   "cell_type": "code",
   "execution_count": 27,
   "id": "f67cf4f7",
   "metadata": {},
   "outputs": [],
   "source": [
    "capture_packet_3=sniff(timeout=2)"
   ]
  },
  {
   "cell_type": "code",
   "execution_count": 28,
   "id": "80032a8f",
   "metadata": {},
   "outputs": [],
   "source": [
    "from scapy.all import wrpcap"
   ]
  },
  {
   "cell_type": "code",
   "execution_count": 29,
   "id": "e0e791e6",
   "metadata": {},
   "outputs": [],
   "source": [
    "wrpcap(\"captured_packets.pcap\", capture_packet_3)"
   ]
  },
  {
   "cell_type": "markdown",
   "id": "c566e101",
   "metadata": {},
   "source": [
    "# Reading data from a pcap file\n",
    "### The sniff function in Scapy can be used in offline mode by providing a file path to the offline parameter. This allows you to read and analyze packets from a previously captured pcap file."
   ]
  },
  {
   "cell_type": "code",
   "execution_count": 30,
   "id": "24d03062",
   "metadata": {},
   "outputs": [],
   "source": [
    "offline_file=\"captured_packets.pcap\""
   ]
  },
  {
   "cell_type": "code",
   "execution_count": 31,
   "id": "ee5a6579",
   "metadata": {},
   "outputs": [],
   "source": [
    "file=sniff(offline=offline_file)"
   ]
  },
  {
   "cell_type": "code",
   "execution_count": 32,
   "id": "fb3e67d8",
   "metadata": {},
   "outputs": [
    {
     "name": "stdout",
     "output_type": "stream",
     "text": [
      "Ether / ARP who has 172.18.13.167 says 172.18.0.1\n",
      "Ether / IP / UDP 172.18.9.104:65306 > 142.250.82.149:3478 / Raw\n",
      "Ether / IP / UDP 172.18.9.104:64361 > 142.250.82.149:3478 / Raw\n",
      "Ether / IP / UDP 142.250.82.149:3478 > 172.18.9.104:64361 / Raw\n",
      "Ether / IP / UDP 142.250.82.149:3478 > 172.18.9.104:65306 / Raw\n",
      "Ether / IP / UDP 172.18.9.104:65306 > 142.250.82.149:3478 / Raw\n",
      "Ether / IP / UDP 172.18.9.104:64361 > 142.250.82.149:3478 / Raw\n",
      "Ether / IP / UDP 172.18.9.104:64361 > 142.250.82.149:3478 / Raw\n",
      "Ether / IP / UDP 172.18.9.104:64361 > 142.250.82.149:3478 / Raw\n",
      "Ether / IP / UDP 172.18.9.104:64361 > 142.250.82.149:3478 / Raw\n",
      "Ether / IP / UDP 172.18.9.104:65306 > 142.250.82.149:3478 / Raw\n",
      "Ether / IP / UDP 142.250.82.149:3478 > 172.18.9.104:64361 / Raw\n",
      "Ether / IP / UDP 142.250.82.149:3478 > 172.18.9.104:65306 / Raw\n",
      "Ether / IP / UDP 172.18.9.104:64361 > 142.250.82.149:3478 / Raw\n",
      "Ether / IP / UDP 172.18.9.104:64361 > 142.250.82.149:3478 / Raw\n",
      "Ether / IP / UDP 172.18.9.104:64361 > 142.250.82.149:3478 / Raw\n",
      "Ether / IP / UDP 172.18.9.104:64361 > 142.250.82.149:3478 / Raw\n",
      "Ether / IP / UDP 172.18.9.104:64361 > 142.250.82.149:3478 / Raw\n",
      "Ether / IP / UDP 172.18.9.104:64361 > 142.250.82.149:3478 / Raw\n",
      "Ether / IP / UDP 172.18.9.104:64361 > 142.250.82.149:3478 / Raw\n",
      "Ether / IP / UDP 172.18.9.104:65306 > 142.250.82.149:3478 / Raw\n",
      "Ether / IP / UDP 172.18.9.104:64361 > 142.250.82.149:3478 / Raw\n",
      "Ether / IP / UDP 172.18.9.104:64361 > 142.250.82.149:3478 / Raw\n",
      "Ether / IP / UDP 142.250.82.149:3478 > 172.18.9.104:64361 / Raw\n",
      "Ether / IP / UDP 142.250.82.149:3478 > 172.18.9.104:65306 / Raw\n",
      "Ether / IP / UDP 172.18.9.104:65306 > 142.250.82.149:3478 / Raw\n",
      "Ether / IP / UDP 172.18.9.104:64361 > 142.250.82.149:3478 / Raw\n",
      "Ether / IP / UDP 172.18.9.104:64361 > 142.250.82.149:3478 / Raw\n",
      "Ether / IP / UDP 172.18.9.104:64361 > 142.250.82.149:3478 / Raw\n",
      "Ether / IP / UDP 172.18.9.104:65306 > 142.250.82.149:3478 / Raw\n",
      "Ether / IP / UDP 142.250.82.149:3478 > 172.18.9.104:64361 / Raw\n",
      "Ether / IP / UDP 142.250.82.149:3478 > 172.18.9.104:65306 / Raw\n",
      "Ether / IP / UDP 172.18.9.104:64361 > 142.250.82.149:3478 / Raw\n",
      "Ether / IP / UDP 172.18.9.104:64361 > 142.250.82.149:3478 / Raw\n",
      "Ether / IP / UDP 172.18.9.104:64361 > 142.250.82.149:3478 / Raw\n",
      "Ether / IP / UDP 172.18.9.104:65306 > 142.250.82.149:3478 / Raw\n",
      "Ether / IP / UDP 172.18.9.104:64361 > 142.250.82.149:3478 / Raw\n",
      "Ether / IP / UDP 172.18.9.104:64361 > 142.250.82.149:3478 / Raw\n",
      "Ether / IP / UDP 172.18.9.104:64361 > 142.250.82.149:3478 / Raw\n",
      "Ether / IP / UDP 172.18.9.104:64361 > 142.250.82.149:3478 / Raw\n",
      "Ether / IP / UDP 142.250.82.149:3478 > 172.18.9.104:64361 / Raw\n",
      "Ether / IP / UDP 142.250.82.149:3478 > 172.18.9.104:65306 / Raw\n",
      "Ether / IP / UDP 172.18.9.104:65306 > 142.250.82.149:3478 / Raw\n",
      "Ether / IP / UDP 172.18.9.104:64361 > 142.250.82.149:3478 / Raw\n",
      "Ether / IP / UDP 172.18.9.104:64361 > 142.250.82.149:3478 / Raw\n",
      "Ether / IP / UDP 172.18.9.104:64361 > 142.250.82.149:3478 / Raw\n",
      "Ether / IP / UDP 172.18.9.104:64361 > 142.250.82.149:3478 / Raw\n",
      "Ether / IP / UDP 172.18.9.104:64361 > 142.250.82.149:3478 / Raw\n",
      "Ether / IP / UDP 172.18.9.104:65306 > 142.250.82.149:3478 / Raw\n",
      "Ether / IP / UDP 142.250.82.149:3478 > 172.18.9.104:64361 / Raw\n",
      "Ether / IP / UDP 142.250.82.149:3478 > 172.18.9.104:65306 / Raw\n",
      "Ether / IP / UDP 172.18.9.104:65306 > 142.250.82.149:3478 / Raw\n",
      "Ether / IP / UDP 172.18.9.104:64361 > 142.250.82.149:3478 / Raw\n",
      "Ether / IP / UDP 172.18.9.104:64361 > 142.250.82.149:3478 / Raw\n",
      "Ether / IP / UDP 172.18.9.104:64361 > 142.250.82.149:3478 / Raw\n",
      "Ether / IP / UDP 172.18.9.104:64361 > 142.250.82.149:3478 / Raw\n",
      "Ether / IP / UDP 172.18.9.104:64361 > 142.250.82.149:3478 / Raw\n",
      "Ether / IP / UDP 142.250.82.149:3478 > 172.18.9.104:65306 / Raw\n",
      "Ether / IP / UDP 172.18.9.104:65306 > 142.250.82.149:3478 / Raw\n",
      "Ether / IP / UDP 172.18.9.104:64361 > 142.250.82.149:3478 / Raw\n",
      "Ether / IP / UDP 172.18.9.104:64361 > 142.250.82.149:3478 / Raw\n",
      "Ether / IP / UDP 142.250.82.149:3478 > 172.18.9.104:64361 / Raw\n",
      "Ether / IP / UDP 142.250.82.149:3478 > 172.18.9.104:65306 / Raw\n",
      "Ether / IP / UDP 172.18.9.104:65306 > 142.250.82.149:3478 / Raw\n",
      "Ether / IP / UDP 142.250.82.149:3478 > 172.18.9.104:64361 / Raw\n",
      "Ether / IP / UDP 142.250.82.149:3478 > 172.18.9.104:65306 / Raw\n",
      "Ether / IP / UDP 172.18.9.104:65306 > 142.250.82.149:3478 / Raw\n",
      "Ether / IP / UDP 142.250.82.149:3478 > 172.18.9.104:64361 / Raw\n",
      "Ether / IP / UDP 172.18.9.104:64361 > 142.250.82.149:3478 / Raw\n",
      "Ether / IP / UDP 172.18.9.104:64361 > 142.250.82.149:3478 / Raw\n",
      "Ether / IP / UDP 172.18.9.104:64361 > 142.250.82.149:3478 / Raw\n",
      "Ether / IP / UDP 172.18.9.104:64361 > 142.250.82.149:3478 / Raw\n",
      "Ether / IP / UDP 172.18.9.104:64361 > 142.250.82.149:3478 / Raw\n",
      "Ether / IP / UDP 172.18.9.104:64361 > 142.250.82.149:3478 / Raw\n",
      "Ether / IP / UDP 172.18.9.104:64361 > 142.250.82.149:3478 / Raw\n",
      "Ether / IP / UDP 172.18.9.104:64361 > 142.250.82.149:3478 / Raw\n",
      "Ether / IP / UDP 172.18.9.104:64361 > 142.250.82.149:3478 / Raw\n",
      "Ether / IP / UDP 172.18.9.104:64361 > 142.250.82.149:3478 / Raw\n",
      "Ether / IP / UDP 172.18.9.104:64361 > 142.250.82.149:3478 / Raw\n",
      "Ether / IP / UDP 172.18.9.104:64361 > 142.250.82.149:3478 / Raw\n",
      "Ether / IP / UDP 172.18.9.104:64361 > 142.250.82.149:3478 / Raw\n",
      "Ether / IP / UDP 172.18.9.104:65306 > 142.250.82.149:3478 / Raw\n",
      "Ether / IP / UDP 172.18.9.104:65306 > 142.250.82.149:3478 / Raw\n",
      "Ether / IP / UDP 172.18.9.104:64361 > 142.250.82.149:3478 / Raw\n",
      "Ether / IP / UDP 172.18.9.104:64361 > 142.250.82.149:3478 / Raw\n",
      "Ether / IP / UDP 142.250.82.149:3478 > 172.18.9.104:65306 / Raw\n",
      "Ether / IP / UDP 172.18.9.104:65306 > 142.250.82.149:3478 / Raw\n",
      "Ether / IP / UDP 172.18.9.104:64361 > 142.250.82.149:3478 / Raw\n",
      "Ether / IP / UDP 172.18.9.104:64361 > 142.250.82.149:3478 / Raw\n",
      "Ether / IP / UDP 172.18.9.104:64361 > 142.250.82.149:3478 / Raw\n",
      "Ether / IP / UDP 172.18.9.104:64361 > 142.250.82.149:3478 / Raw\n",
      "Ether / IP / UDP 172.18.9.104:64361 > 142.250.82.149:3478 / Raw\n",
      "Ether / IP / UDP 172.18.9.104:64361 > 142.250.82.149:3478 / Raw\n",
      "Ether / IP / UDP 172.18.9.104:64361 > 142.250.82.149:3478 / Raw\n",
      "Ether / IP / UDP 172.18.9.104:64361 > 142.250.82.149:3478 / Raw\n",
      "Ether / IP / UDP 172.18.9.104:64361 > 142.250.82.149:3478 / Raw\n",
      "Ether / IP / UDP 172.18.9.104:65306 > 142.250.82.149:3478 / Raw\n",
      "Ether / IP / UDP 142.250.82.149:3478 > 172.18.9.104:64361 / Raw\n",
      "Ether / IP / UDP 142.250.82.149:3478 > 172.18.9.104:65306 / Raw\n",
      "Ether / IP / UDP 172.18.9.104:64361 > 142.250.82.149:3478 / Raw\n",
      "Ether / IP / TCP 172.18.9.104:56487 > 91.108.23.100:https S\n",
      "Ether / IP / UDP 172.18.9.104:65306 > 142.250.82.149:3478 / Raw\n",
      "Ether / IP / TCP 172.18.9.104:56488 > 91.108.23.100:http S\n",
      "Ether / IP / UDP 172.18.9.104:64361 > 142.250.82.149:3478 / Raw\n",
      "Ether / IP / UDP 172.18.9.104:64361 > 142.250.82.149:3478 / Raw\n",
      "Ether / IP / UDP 172.18.9.104:64361 > 142.250.82.149:3478 / Raw\n",
      "Ether / IP / UDP 172.18.9.104:64361 > 142.250.82.149:3478 / Raw\n",
      "Ether / IP / UDP 172.18.9.104:64361 > 142.250.82.149:3478 / Raw\n",
      "Ether / IP / UDP 172.18.9.104:64361 > 142.250.82.149:3478 / Raw\n",
      "Ether / IP / UDP 172.18.9.104:64361 > 142.250.82.149:3478 / Raw\n",
      "Ether / IP / UDP 172.18.9.104:64361 > 142.250.82.149:3478 / Raw\n",
      "Ether / IP / UDP 172.18.9.104:64361 > 142.250.82.149:3478 / Raw\n",
      "Ether / IP / UDP 142.250.82.149:3478 > 172.18.9.104:64361 / Raw\n",
      "Ether / IP / UDP 142.250.82.149:3478 > 172.18.9.104:65306 / Raw\n",
      "Ether / IP / UDP 172.18.9.104:65306 > 142.250.82.149:3478 / Raw\n",
      "Ether / IP / UDP 172.18.9.104:64361 > 142.250.82.149:3478 / Raw\n",
      "Ether / IP / UDP 172.18.9.104:65306 > 142.250.82.149:3478 / Raw\n",
      "Ether / IP / UDP 142.250.82.149:3478 > 172.18.9.104:64361 / Raw\n",
      "Ether / IP / UDP 142.250.82.149:3478 > 172.18.9.104:65306 / Raw\n",
      "Ether / IP / UDP 172.18.9.104:64361 > 142.250.82.149:3478 / Raw\n",
      "Ether / IP / UDP 172.18.9.104:64361 > 142.250.82.149:3478 / Raw\n",
      "Ether / IP / UDP 172.18.9.104:64361 > 142.250.82.149:3478 / Raw\n",
      "Ether / IP / UDP 172.18.9.104:64361 > 142.250.82.149:3478 / Raw\n",
      "Ether / IP / UDP 172.18.9.104:64361 > 142.250.82.149:3478 / Raw\n",
      "Ether / IP / UDP 172.18.9.104:64361 > 142.250.82.149:3478 / Raw\n",
      "Ether / IP / UDP 172.18.9.104:65306 > 142.250.82.149:3478 / Raw\n",
      "Ether / IP / UDP 142.250.82.149:3478 > 172.18.9.104:64361 / Raw\n",
      "Ether / IP / UDP 142.250.82.149:3478 > 172.18.9.104:65306 / Raw\n",
      "Ether / IP / UDP 172.18.9.104:64361 > 142.250.82.149:3478 / Raw\n",
      "Ether / IP / UDP 172.18.9.104:65306 > 142.250.82.149:3478 / Raw\n",
      "Ether / IP / UDP 172.18.9.104:64361 > 142.250.82.149:3478 / Raw\n",
      "Ether / IP / UDP 172.18.9.104:64361 > 142.250.82.149:3478 / Raw\n",
      "Ether / IP / UDP 172.18.9.104:64361 > 142.250.82.149:3478 / Raw\n",
      "Ether / IP / UDP 172.18.9.104:64361 > 142.250.82.149:3478 / Raw\n",
      "Ether / IP / UDP 172.18.9.104:64361 > 142.250.82.149:3478 / Raw\n",
      "Ether / IP / UDP 172.18.9.104:64361 > 142.250.82.149:3478 / Raw\n",
      "Ether / IP / UDP 172.18.9.104:64361 > 142.250.82.149:3478 / Raw\n",
      "Ether / IP / UDP 172.18.9.104:64361 > 142.250.82.149:3478 / Raw\n",
      "Ether / IP / UDP 172.18.9.104:64361 > 142.250.82.149:3478 / Raw\n",
      "Ether / IP / UDP 172.18.9.104:64361 > 142.250.82.149:3478 / Raw\n",
      "Ether / IP / UDP 172.18.9.104:64361 > 142.250.82.149:3478 / Raw\n",
      "Ether / IP / UDP 172.18.9.104:64361 > 142.250.82.149:3478 / Raw\n",
      "Ether / IP / UDP 142.250.82.149:3478 > 172.18.9.104:64361 / Raw\n",
      "Ether / IP / UDP 142.250.82.149:3478 > 172.18.9.104:65306 / Raw\n",
      "Ether / IP / UDP 172.18.9.104:65306 > 142.250.82.149:3478 / Raw\n",
      "Ether / IP / UDP 172.18.9.104:64361 > 142.250.82.149:3478 / Raw\n",
      "Ether / IP / UDP 172.18.9.104:64361 > 142.250.82.149:3478 / Raw\n",
      "Ether / IP / UDP 172.18.9.104:64361 > 142.250.82.149:3478 / Raw\n",
      "Ether / IP / UDP 172.18.9.104:64361 > 142.250.82.149:3478 / Raw\n",
      "Ether / IP / UDP 172.18.9.104:64361 > 142.250.82.149:3478 / Raw\n",
      "Ether / IP / UDP 172.18.9.104:64361 > 142.250.82.149:3478 / Raw\n",
      "Ether / IP / UDP 172.18.9.104:64361 > 142.250.82.149:3478 / Raw\n",
      "Ether / IP / UDP 172.18.9.104:64361 > 142.250.82.149:3478 / Raw\n",
      "Ether / IP / UDP 172.18.9.104:64361 > 142.250.82.149:3478 / Raw\n",
      "Ether / IP / UDP 172.18.9.104:64361 > 142.250.82.149:3478 / Raw\n",
      "Ether / IP / UDP 172.18.9.104:64361 > 142.250.82.149:3478 / Raw\n",
      "Ether / IP / UDP 172.18.9.104:64361 > 142.250.82.149:3478 / Raw\n",
      "Ether / IP / UDP 172.18.9.104:64361 > 142.250.82.149:3478 / Raw\n",
      "Ether / IP / UDP 172.18.9.104:64361 > 142.250.82.149:3478 / Raw\n",
      "Ether / IP / UDP 172.18.9.104:65306 > 142.250.82.149:3478 / Raw\n",
      "Ether / IP / UDP 142.250.82.149:3478 > 172.18.9.104:64361 / Raw\n",
      "Ether / IP / UDP 142.250.82.149:3478 > 172.18.9.104:65306 / Raw\n",
      "Ether / IP / UDP 172.18.9.104:64361 > 142.250.82.149:3478 / Raw\n",
      "Ether / IP / UDP 172.18.9.104:64361 > 142.250.82.149:3478 / Raw\n",
      "Ether / IP / UDP 172.18.9.104:64361 > 142.250.82.149:3478 / Raw\n",
      "Ether / IP / UDP 172.18.9.104:64361 > 142.250.82.149:3478 / Raw\n",
      "Ether / IP / UDP 172.18.9.104:64361 > 142.250.82.149:3478 / Raw\n",
      "Ether / IP / UDP 172.18.9.104:65306 > 142.250.82.149:3478 / Raw\n",
      "Ether / IP / UDP 172.18.9.104:64361 > 142.250.82.149:3478 / Raw\n",
      "Ether / IP / UDP 172.18.9.104:64361 > 142.250.82.149:3478 / Raw\n",
      "Ether / IP / UDP 172.18.9.104:65306 > 142.250.82.149:3478 / Raw\n",
      "Ether / IP / UDP 142.250.82.149:3478 > 172.18.9.104:64361 / Raw\n",
      "Ether / IP / UDP 142.250.82.149:3478 > 172.18.9.104:65306 / Raw\n",
      "Ether / IP / UDP 172.18.9.104:64361 > 142.250.82.149:3478 / Raw\n",
      "Ether / IP / UDP 172.18.9.104:64361 > 142.250.82.149:3478 / Raw\n",
      "Ether / IP / UDP 172.18.9.104:64361 > 142.250.82.149:3478 / Raw\n",
      "Ether / IP / UDP 172.18.9.104:64361 > 142.250.82.149:3478 / Raw\n",
      "Ether / IP / UDP 172.18.9.104:64361 > 142.250.82.149:3478 / Raw\n",
      "Ether / IP / UDP 172.18.9.104:64361 > 142.250.82.149:3478 / Raw\n",
      "Ether / IP / UDP 172.18.9.104:64361 > 142.250.82.149:3478 / Raw\n",
      "Ether / IP / UDP 172.18.9.104:64361 > 142.250.82.149:3478 / Raw\n",
      "Ether / IP / UDP 172.18.9.104:65306 > 142.250.82.149:3478 / Raw\n",
      "Ether / IP / UDP 142.250.82.149:3478 > 172.18.9.104:64361 / Raw\n",
      "Ether / IP / UDP 142.250.82.149:3478 > 172.18.9.104:65306 / Raw\n",
      "Ether / IP / UDP 172.18.9.104:64361 > 142.250.82.149:3478 / Raw\n",
      "Ether / IP / UDP 172.18.9.104:64361 > 142.250.82.149:3478 / Raw\n",
      "Ether / IP / UDP 172.18.9.104:64361 > 142.250.82.149:3478 / Raw\n",
      "Ether / IP / UDP 172.18.9.104:65306 > 142.250.82.149:3478 / Raw\n",
      "Ether / IP / UDP 172.18.9.104:64361 > 142.250.82.149:3478 / Raw\n",
      "Ether / IP / UDP 172.18.9.104:64361 > 142.250.82.149:3478 / Raw\n",
      "Ether / IP / UDP 172.18.9.104:64361 > 142.250.82.149:3478 / Raw\n",
      "Ether / IP / UDP 172.18.9.104:64361 > 142.250.82.149:3478 / Raw\n",
      "Ether / IP / UDP 172.18.9.104:64361 > 142.250.82.149:3478 / Raw\n",
      "Ether / IP / UDP 172.18.9.104:64361 > 142.250.82.149:3478 / Raw\n",
      "Ether / IP / UDP 172.18.9.104:64361 > 142.250.82.149:3478 / Raw\n",
      "Ether / IP / UDP 172.18.9.104:64361 > 142.250.82.149:3478 / Raw\n",
      "Ether / IP / UDP 172.18.9.104:65306 > 142.250.82.149:3478 / Raw\n",
      "Ether / IP / UDP 142.250.82.149:3478 > 172.18.9.104:64361 / Raw\n",
      "Ether / IP / UDP 142.250.82.149:3478 > 172.18.9.104:65306 / Raw\n",
      "Ether / IP / UDP 172.18.9.104:64361 > 142.250.82.149:3478 / Raw\n",
      "Ether / IP / UDP 172.18.9.104:64361 > 142.250.82.149:3478 / Raw\n",
      "Ether / IP / UDP 172.18.9.104:64361 > 142.250.82.149:3478 / Raw\n",
      "Ether / IP / UDP 172.18.9.104:64361 > 142.250.82.149:3478 / Raw\n",
      "Ether / IP / UDP 172.18.9.104:64361 > 142.250.82.149:3478 / Raw\n",
      "Ether / IP / UDP 172.18.9.104:64361 > 142.250.82.149:3478 / Raw\n",
      "Ether / IP / UDP 172.18.9.104:65306 > 142.250.82.149:3478 / Raw\n",
      "Ether / IP / UDP 142.250.82.149:3478 > 172.18.9.104:64361 / Raw\n",
      "Ether / IP / UDP 142.250.82.149:3478 > 172.18.9.104:65306 / Raw\n",
      "Ether / IP / UDP 172.18.9.104:64361 > 142.250.82.149:3478 / Raw\n",
      "Ether / IP / UDP 172.18.9.104:64361 > 142.250.82.149:3478 / Raw\n",
      "Ether / IP / UDP 172.18.9.104:64361 > 142.250.82.149:3478 / Raw\n",
      "Ether / IP / UDP 172.18.9.104:64361 > 142.250.82.149:3478 / Raw\n",
      "Ether / IP / UDP 172.18.9.104:64361 > 142.250.82.149:3478 / Raw\n",
      "Ether / IP / UDP 172.18.9.104:64361 > 142.250.82.149:3478 / Raw\n",
      "Ether / IP / UDP 172.18.9.104:64361 > 142.250.82.149:3478 / Raw\n",
      "Ether / ARP who has 172.18.13.167 says 172.18.0.1\n",
      "Ether / IP / UDP 172.18.9.104:65306 > 142.250.82.149:3478 / Raw\n",
      "Ether / IP / UDP 172.18.9.104:64361 > 142.250.82.149:3478 / Raw\n",
      "Ether / IP / UDP 172.18.9.104:65306 > 142.250.82.149:3478 / Raw\n",
      "Ether / IP / UDP 172.18.9.104:64361 > 142.250.82.149:3478 / Raw\n",
      "Ether / IP / UDP 172.18.9.104:64361 > 142.250.82.149:3478 / Raw\n",
      "Ether / IP / UDP 172.18.9.104:64361 > 142.250.82.149:3478 / Raw\n",
      "Ether / IP / UDP 142.250.82.149:3478 > 172.18.9.104:64361 / Raw\n",
      "Ether / IP / UDP 142.250.82.149:3478 > 172.18.9.104:65306 / Raw\n",
      "Ether / IP / UDP 142.250.82.149:3478 > 172.18.9.104:65306 / Raw\n",
      "Ether / IP / UDP 172.18.9.104:65306 > 142.250.82.149:3478 / Raw\n",
      "Ether / IP / UDP 142.250.82.149:3478 > 172.18.9.104:64361 / Raw\n",
      "Ether / IP / UDP 172.18.9.104:64361 > 142.250.82.149:3478 / Raw\n",
      "Ether / IP / UDP 172.18.9.104:64361 > 142.250.82.149:3478 / Raw\n",
      "Ether / IP / UDP 172.18.9.104:64361 > 142.250.82.149:3478 / Raw\n",
      "Ether / IP / UDP 172.18.9.104:64361 > 142.250.82.149:3478 / Raw\n",
      "Ether / IP / UDP 172.18.9.104:64361 > 142.250.82.149:3478 / Raw\n",
      "Ether / IP / UDP 172.18.9.104:64361 > 142.250.82.149:3478 / Raw\n",
      "Ether / IP / UDP 172.18.9.104:64361 > 142.250.82.149:3478 / Raw\n",
      "Ether / IP / UDP 172.18.9.104:64361 > 142.250.82.149:3478 / Raw\n",
      "Ether / IP / UDP 172.18.9.104:65306 > 142.250.82.149:3478 / Raw\n",
      "Ether / IP / UDP 142.250.82.149:3478 > 172.18.9.104:64361 / Raw\n",
      "Ether / IP / UDP 142.250.82.149:3478 > 172.18.9.104:65306 / Raw\n",
      "Ether / IP / UDP 172.18.9.104:64361 > 142.250.82.149:3478 / Raw\n",
      "Ether / IP / UDP 172.18.9.104:64361 > 142.250.82.149:3478 / Raw\n",
      "Ether / IP / UDP 172.18.9.104:64361 > 142.250.82.149:3478 / Raw\n",
      "Ether / IP / UDP 172.18.9.104:65306 > 142.250.82.149:3478 / Raw\n",
      "Ether / IP / UDP 172.18.9.104:64361 > 142.250.82.149:3478 / Raw\n",
      "Ether / IP / UDP 172.18.9.104:64361 > 142.250.82.149:3478 / Raw\n",
      "Ether / IP / UDP 172.18.9.104:64361 > 142.250.82.149:3478 / Raw\n",
      "Ether / IP / UDP 172.18.9.104:64361 > 142.250.82.149:3478 / Raw\n",
      "Ether / IP / UDP 142.250.82.149:3478 > 172.18.9.104:65306 / Raw\n",
      "Ether / IP / UDP 142.250.82.149:3478 > 172.18.9.104:64361 / Raw\n",
      "Ether / IP / UDP 172.18.9.104:64361 > 142.250.82.149:3478 / Raw\n",
      "Ether / IP / UDP 172.18.9.104:64361 > 142.250.82.149:3478 / Raw\n",
      "Ether / IP / UDP 172.18.9.104:65306 > 142.250.82.149:3478 / Raw\n",
      "Ether / IP / UDP 172.18.9.104:64361 > 142.250.82.149:3478 / Raw\n",
      "Ether / IP / UDP 172.18.9.104:64361 > 142.250.82.149:3478 / Raw\n",
      "Ether / IP / UDP 172.18.9.104:64361 > 142.250.82.149:3478 / Raw\n",
      "Ether / IP / UDP 172.18.9.104:64361 > 142.250.82.149:3478 / Raw\n",
      "Ether / IP / UDP 172.18.9.104:64361 > 142.250.82.149:3478 / Raw\n"
     ]
    },
    {
     "name": "stdout",
     "output_type": "stream",
     "text": [
      "Ether / IP / UDP 172.18.9.104:65306 > 142.250.82.149:3478 / Raw\n",
      "Ether / IP / UDP 142.250.82.149:3478 > 172.18.9.104:64361 / Raw\n",
      "Ether / IP / UDP 142.250.82.149:3478 > 172.18.9.104:65306 / Raw\n",
      "Ether / IP / UDP 172.18.9.104:64361 > 142.250.82.149:3478 / Raw\n",
      "Ether / IP / UDP 172.18.9.104:64361 > 142.250.82.149:3478 / Raw\n",
      "Ether / IP / UDP 172.18.9.104:64361 > 142.250.82.149:3478 / Raw\n",
      "Ether / IP / UDP 172.18.9.104:64361 > 142.250.82.149:3478 / Raw\n",
      "Ether / IP / UDP 172.18.9.104:64361 > 142.250.82.149:3478 / Raw\n",
      "Ether / IP / UDP 172.18.9.104:65306 > 142.250.82.149:3478 / Raw\n",
      "Ether / IP / UDP 172.18.9.104:64361 > 142.250.82.149:3478 / Raw\n",
      "Ether / IP / UDP 172.18.9.104:64361 > 142.250.82.149:3478 / Raw\n",
      "Ether / IP / UDP 172.18.9.104:64361 > 142.250.82.149:3478 / Raw\n",
      "Ether / IP / UDP 172.18.9.104:64361 > 142.250.82.149:3478 / Raw\n",
      "Ether / IP / UDP 142.250.82.149:3478 > 172.18.9.104:64361 / Raw\n",
      "Ether / IP / UDP 142.250.82.149:3478 > 172.18.9.104:65306 / Raw\n",
      "Ether / IP / UDP 172.18.9.104:65306 > 142.250.82.149:3478 / Raw\n",
      "Ether / IP / UDP 172.18.9.104:64361 > 142.250.82.149:3478 / Raw\n",
      "Ether / IP / UDP 172.18.9.104:64361 > 142.250.82.149:3478 / Raw\n",
      "Ether / IP / UDP 172.18.9.104:64361 > 142.250.82.149:3478 / Raw\n",
      "Ether / IP / UDP 172.18.9.104:64361 > 142.250.82.149:3478 / Raw\n",
      "Ether / IP / UDP 172.18.9.104:64361 > 142.250.82.149:3478 / Raw\n",
      "Ether / IP / UDP 172.18.9.104:64361 > 142.250.82.149:3478 / Raw\n",
      "Ether / IP / UDP 172.18.9.104:65306 > 142.250.82.149:3478 / Raw\n",
      "Ether / IP / UDP 142.250.82.149:3478 > 172.18.9.104:64361 / Raw\n",
      "Ether / IP / UDP 142.250.82.149:3478 > 172.18.9.104:65306 / Raw\n",
      "Ether / IP / UDP 142.250.82.149:3478 > 172.18.9.104:64361 / Raw\n",
      "Ether / IP / UDP 172.18.9.104:65306 > 142.250.82.149:3478 / Raw\n",
      "Ether / IP / UDP 172.18.9.104:64361 > 142.250.82.149:3478 / Raw\n",
      "Ether / IP / UDP 172.18.9.104:64361 > 142.250.82.149:3478 / Raw\n",
      "Ether / IP / UDP 172.18.9.104:64361 > 142.250.82.149:3478 / Raw\n",
      "Ether / IP / UDP 172.18.9.104:64361 > 142.250.82.149:3478 / Raw\n",
      "Ether / IP / UDP 172.18.9.104:64361 > 142.250.82.149:3478 / Raw\n",
      "Ether / IP / UDP 172.18.9.104:64361 > 142.250.82.149:3478 / Raw\n",
      "Ether / IP / UDP 172.18.9.104:64361 > 142.250.82.149:3478 / Raw\n",
      "Ether / IP / UDP 172.18.9.104:64361 > 142.250.82.149:3478 / Raw\n",
      "Ether / IP / UDP 172.18.9.104:64361 > 142.250.82.149:3478 / Raw\n",
      "Ether / IP / UDP 172.18.9.104:64361 > 142.250.82.149:3478 / Raw\n",
      "Ether / IP / UDP 172.18.9.104:64361 > 142.250.82.149:3478 / Raw\n",
      "Ether / IP / UDP 172.18.9.104:64361 > 142.250.82.149:3478 / Raw\n",
      "Ether / IP / UDP 172.18.9.104:64361 > 142.250.82.149:3478 / Raw\n",
      "Ether / IP / UDP 172.18.9.104:64361 > 142.250.82.149:3478 / Raw\n",
      "Ether / IP / UDP 172.18.9.104:64361 > 142.250.82.149:3478 / Raw\n",
      "Ether / IP / UDP 172.18.9.104:64361 > 142.250.82.149:3478 / Raw\n",
      "Ether / IP / UDP 172.18.9.104:64361 > 142.250.82.149:3478 / Raw\n",
      "Ether / IP / UDP 172.18.9.104:64361 > 142.250.82.149:3478 / Raw\n",
      "Ether / IP / UDP 172.18.9.104:64361 > 142.250.82.149:3478 / Raw\n",
      "Ether / IP / UDP 172.18.9.104:64361 > 142.250.82.149:3478 / Raw\n",
      "Ether / IP / UDP 172.18.9.104:64361 > 142.250.82.149:3478 / Raw\n",
      "Ether / IP / UDP 172.18.9.104:64361 > 142.250.82.149:3478 / Raw\n",
      "Ether / IP / UDP 172.18.9.104:64361 > 142.250.82.149:3478 / Raw\n",
      "Ether / IP / UDP 172.18.9.104:64361 > 142.250.82.149:3478 / Raw\n",
      "Ether / IP / UDP 172.18.9.104:64361 > 142.250.82.149:3478 / Raw\n",
      "Ether / IP / UDP 172.18.9.104:64361 > 142.250.82.149:3478 / Raw\n",
      "Ether / IP / UDP 142.250.82.149:3478 > 172.18.9.104:64361 / Raw\n",
      "Ether / IP / UDP 142.250.82.149:3478 > 172.18.9.104:65306 / Raw\n",
      "Ether / IP / UDP 172.18.9.104:65306 > 142.250.82.149:3478 / Raw\n",
      "Ether / IP / UDP 142.250.82.149:3478 > 172.18.9.104:65306 / Raw\n",
      "Ether / IP / UDP 172.18.9.104:64361 > 142.250.82.149:3478 / Raw\n",
      "Ether / IP / UDP 172.18.9.104:64361 > 142.250.82.149:3478 / Raw\n",
      "Ether / IP / UDP 172.18.9.104:64361 > 142.250.82.149:3478 / Raw\n",
      "Ether / IP / UDP 172.18.9.104:64361 > 142.250.82.149:3478 / Raw\n",
      "Ether / IP / UDP 172.18.9.104:64361 > 142.250.82.149:3478 / Raw\n",
      "Ether / IP / UDP 172.18.9.104:64361 > 142.250.82.149:3478 / Raw\n",
      "Ether / IP / UDP 172.18.9.104:64361 > 142.250.82.149:3478 / Raw\n",
      "Ether / IP / UDP 172.18.9.104:64361 > 142.250.82.149:3478 / Raw\n",
      "Ether / IP / UDP 172.18.9.104:64361 > 142.250.82.149:3478 / Raw\n",
      "Ether / IP / UDP 172.18.9.104:64361 > 142.250.82.149:3478 / Raw\n",
      "Ether / IP / UDP 172.18.9.104:64361 > 142.250.82.149:3478 / Raw\n",
      "Ether / IP / UDP 172.18.9.104:64361 > 142.250.82.149:3478 / Raw\n",
      "Ether / IP / UDP 172.18.9.104:64361 > 142.250.82.149:3478 / Raw\n",
      "Ether / IP / UDP 172.18.9.104:64361 > 142.250.82.149:3478 / Raw\n",
      "Ether / IP / UDP 172.18.9.104:65306 > 142.250.82.149:3478 / Raw\n",
      "Ether / IP / UDP 142.250.82.149:3478 > 172.18.9.104:65306 / Raw\n",
      "Ether / IP / UDP 142.250.82.149:3478 > 172.18.9.104:64361 / Raw\n",
      "Ether / IP / UDP 172.18.9.104:65306 > 142.250.82.149:3478 / Raw\n",
      "Ether / IP / UDP 172.18.9.104:64361 > 142.250.82.149:3478 / Raw\n",
      "Ether / IP / UDP 172.18.9.104:64361 > 142.250.82.149:3478 / Raw\n",
      "Ether / IP / UDP 172.18.9.104:65306 > 142.250.82.149:3478 / Raw\n",
      "Ether / IP / UDP 142.250.82.149:3478 > 172.18.9.104:64361 / Raw\n",
      "Ether / IP / UDP 142.250.82.149:3478 > 172.18.9.104:65306 / Raw\n",
      "Ether / IP / UDP 142.250.82.149:3478 > 172.18.9.104:64361 / Raw\n",
      "Ether / IP / UDP 172.18.9.104:64361 > 142.250.82.149:3478 / Raw\n",
      "Ether / IP / UDP 172.18.9.104:64361 > 142.250.82.149:3478 / Raw\n",
      "Ether / IP / UDP 172.18.9.104:64361 > 142.250.82.149:3478 / Raw\n",
      "Ether / IP / UDP 172.18.9.104:64361 > 142.250.82.149:3478 / Raw\n",
      "Ether / IP / UDP 172.18.9.104:64361 > 142.250.82.149:3478 / Raw\n",
      "Ether / IP / UDP 172.18.9.104:64361 > 142.250.82.149:3478 / Raw\n",
      "Ether / IP / UDP 172.18.9.104:64361 > 142.250.82.149:3478 / Raw\n",
      "Ether / IP / UDP 172.18.9.104:64361 > 142.250.82.149:3478 / Raw\n",
      "Ether / IP / UDP 172.18.9.104:64361 > 142.250.82.149:3478 / Raw\n",
      "Ether / IP / UDP 172.18.9.104:64361 > 142.250.82.149:3478 / Raw\n",
      "Ether / IP / UDP 172.18.9.104:65306 > 142.250.82.149:3478 / Raw\n",
      "Ether / IP / UDP 172.18.9.104:64361 > 142.250.82.149:3478 / Raw\n",
      "Ether / IP / UDP 172.18.9.104:64361 > 142.250.82.149:3478 / Raw\n",
      "Ether / IP / UDP 172.18.9.104:64361 > 142.250.82.149:3478 / Raw\n",
      "Ether / IP / UDP 172.18.9.104:65306 > 142.250.82.149:3478 / Raw\n",
      "Ether / IP / UDP 172.18.9.104:64361 > 142.250.82.149:3478 / Raw\n",
      "Ether / IP / UDP 142.250.82.149:3478 > 172.18.9.104:64361 / Raw\n",
      "Ether / IP / UDP 142.250.82.149:3478 > 172.18.9.104:65306 / Raw\n",
      "Ether / IP / UDP 172.18.9.104:65306 > 142.250.82.149:3478 / Raw\n",
      "Ether / IP / UDP 172.18.9.104:64361 > 142.250.82.149:3478 / Raw\n",
      "Ether / IP / UDP 172.18.9.104:64361 > 142.250.82.149:3478 / Raw\n",
      "Ether / IP / UDP 172.18.9.104:64361 > 142.250.82.149:3478 / Raw\n",
      "Ether / IP / UDP 172.18.9.104:64361 > 142.250.82.149:3478 / Raw\n",
      "Ether / IP / UDP 172.18.9.104:64361 > 142.250.82.149:3478 / Raw\n",
      "Ether / IP / UDP 172.18.9.104:64361 > 142.250.82.149:3478 / Raw\n",
      "Ether / IP / UDP 172.18.9.104:64361 > 142.250.82.149:3478 / Raw\n",
      "Ether / IP / UDP 172.18.9.104:64361 > 142.250.82.149:3478 / Raw\n",
      "Ether / IP / UDP 172.18.9.104:64361 > 142.250.82.149:3478 / Raw\n",
      "Ether / IP / UDP 172.18.9.104:64361 > 142.250.82.149:3478 / Raw\n",
      "Ether / IP / UDP 172.18.9.104:64361 > 142.250.82.149:3478 / Raw\n",
      "Ether / IP / UDP 172.18.9.104:64361 > 142.250.82.149:3478 / Raw\n",
      "Ether / IP / UDP 142.250.82.149:3478 > 172.18.9.104:64361 / Raw\n",
      "Ether / IP / UDP 142.250.82.149:3478 > 172.18.9.104:65306 / Raw\n",
      "Ether / IP / UDP 172.18.9.104:65306 > 142.250.82.149:3478 / Raw\n",
      "Ether / IP / UDP 172.18.9.104:65306 > 142.250.82.149:3478 / Raw\n",
      "Ether / IP / UDP 172.18.9.104:64361 > 142.250.82.149:3478 / Raw\n",
      "Ether / IP / UDP 172.18.9.104:64361 > 142.250.82.149:3478 / Raw\n",
      "Ether / IP / UDP 172.18.9.104:64361 > 142.250.82.149:3478 / Raw\n",
      "Ether / IP / UDP 172.18.9.104:64361 > 142.250.82.149:3478 / Raw\n",
      "Ether / IP / UDP 172.18.9.104:64361 > 142.250.82.149:3478 / Raw\n",
      "Ether / IP / UDP 172.18.9.104:65306 > 142.250.82.149:3478 / Raw\n",
      "Ether / IP / UDP 172.18.9.104:64361 > 142.250.82.149:3478 / Raw\n",
      "Ether / IP / UDP 172.18.9.104:64361 > 142.250.82.149:3478 / Raw\n",
      "Ether / IP / UDP 172.18.9.104:64361 > 142.250.82.149:3478 / Raw\n",
      "Ether / IP / UDP 172.18.9.104:64361 > 142.250.82.149:3478 / Raw\n",
      "Ether / IP / UDP 172.18.9.104:64361 > 142.250.82.149:3478 / Raw\n",
      "Ether / IP / UDP 172.18.9.104:64361 > 142.250.82.149:3478 / Raw\n",
      "Ether / IP / UDP 172.18.9.104:64361 > 142.250.82.149:3478 / Raw\n",
      "Ether / IP / UDP 142.250.82.149:3478 > 172.18.9.104:64361 / Raw\n",
      "Ether / IP / UDP 142.250.82.149:3478 > 172.18.9.104:65306 / Raw\n",
      "Ether / IP / UDP 172.18.9.104:65306 > 142.250.82.149:3478 / Raw\n",
      "Ether / IP / UDP 172.18.9.104:64361 > 142.250.82.149:3478 / Raw\n",
      "Ether / IP / UDP 172.18.9.104:64361 > 142.250.82.149:3478 / Raw\n",
      "Ether / IP / UDP 172.18.9.104:64361 > 142.250.82.149:3478 / Raw\n",
      "Ether / IP / UDP 172.18.9.104:65306 > 142.250.82.149:3478 / Raw\n",
      "Ether / IP / UDP 172.18.9.104:64361 > 142.250.82.149:3478 / Raw\n",
      "Ether / IP / UDP 142.250.82.149:3478 > 172.18.9.104:64361 / Raw\n",
      "Ether / IP / UDP 142.250.82.149:3478 > 172.18.9.104:65306 / Raw\n",
      "Ether / IP / UDP 172.18.9.104:64361 > 142.250.82.149:3478 / Raw\n",
      "Ether / IP / UDP 172.18.9.104:64361 > 142.250.82.149:3478 / Raw\n",
      "Ether / IP / UDP 172.18.9.104:64361 > 142.250.82.149:3478 / Raw\n",
      "Ether / IP / UDP 172.18.9.104:64361 > 142.250.82.149:3478 / Raw\n",
      "Ether / IP / UDP 172.18.9.104:64361 > 142.250.82.149:3478 / Raw\n",
      "Ether / IP / UDP 172.18.9.104:64361 > 142.250.82.149:3478 / Raw\n",
      "Ether / IP / UDP 172.18.9.104:64361 > 142.250.82.149:3478 / Raw\n",
      "Ether / IP / UDP 172.18.9.104:64361 > 142.250.82.149:3478 / Raw\n",
      "Ether / IP / UDP 172.18.9.104:64361 > 142.250.82.149:3478 / Raw\n",
      "Ether / IP / UDP 172.18.9.104:64361 > 142.250.82.149:3478 / Raw\n",
      "Ether / IP / UDP 172.18.9.104:64361 > 142.250.82.149:3478 / Raw\n",
      "Ether / IP / UDP 172.18.9.104:65306 > 142.250.82.149:3478 / Raw\n",
      "Ether / IP / UDP 142.250.82.149:3478 > 172.18.9.104:64361 / Raw\n",
      "Ether / IP / UDP 142.250.82.149:3478 > 172.18.9.104:65306 / Raw\n",
      "Ether / IP / UDP 172.18.9.104:65306 > 142.250.82.149:3478 / Raw\n",
      "Ether / IP / UDP 172.18.9.104:64361 > 142.250.82.149:3478 / Raw\n",
      "Ether / IP / UDP 172.18.9.104:64361 > 142.250.82.149:3478 / Raw\n",
      "Ether / IP / UDP 172.18.9.104:64361 > 142.250.82.149:3478 / Raw\n",
      "Ether / IP / UDP 142.250.82.149:3478 > 172.18.9.104:64361 / Raw\n",
      "Ether / IP / UDP 142.250.82.149:3478 > 172.18.9.104:65306 / Raw\n",
      "Ether / IP / UDP 172.18.9.104:65306 > 142.250.82.149:3478 / Raw\n",
      "Ether / IP / UDP 172.18.9.104:64361 > 142.250.82.149:3478 / Raw\n",
      "Ether / IP / UDP 172.18.9.104:64361 > 142.250.82.149:3478 / Raw\n",
      "Ether / IP / UDP 172.18.9.104:64361 > 142.250.82.149:3478 / Raw\n",
      "Ether / IP / UDP 172.18.9.104:64361 > 142.250.82.149:3478 / Raw\n",
      "Ether / IP / UDP 172.18.9.104:64361 > 142.250.82.149:3478 / Raw\n",
      "Ether / IP / UDP 172.18.9.104:64361 > 142.250.82.149:3478 / Raw\n",
      "Ether / IP / UDP 172.18.9.104:64361 > 142.250.82.149:3478 / Raw\n",
      "Ether / IP / UDP 172.18.9.104:64361 > 142.250.82.149:3478 / Raw\n",
      "Ether / IP / UDP 172.18.9.104:64361 > 142.250.82.149:3478 / Raw\n",
      "Ether / IP / UDP 172.18.9.104:64361 > 142.250.82.149:3478 / Raw\n",
      "Ether / IP / UDP 172.18.9.104:64361 > 142.250.82.149:3478 / Raw\n",
      "Ether / IP / UDP 172.18.9.104:65306 > 142.250.82.149:3478 / Raw\n",
      "Ether / IP / UDP 172.18.9.104:64361 > 142.250.82.149:3478 / Raw\n",
      "Ether / IP / UDP 172.18.9.104:64361 > 142.250.82.149:3478 / Raw\n",
      "Ether / IP / UDP 172.18.9.104:64361 > 142.250.82.149:3478 / Raw\n",
      "Ether / IP / UDP 172.18.9.104:64361 > 142.250.82.149:3478 / Raw\n",
      "Ether / IP / UDP 172.18.9.104:64361 > 142.250.82.149:3478 / Raw\n",
      "Ether / IP / UDP 172.18.9.104:64361 > 142.250.82.149:3478 / Raw\n",
      "Ether / IP / UDP 172.18.9.104:64361 > 142.250.82.149:3478 / Raw\n",
      "Ether / IP / UDP 172.18.9.104:64361 > 142.250.82.149:3478 / Raw\n",
      "Ether / IP / UDP 142.250.82.149:3478 > 172.18.9.104:64361 / Raw\n",
      "Ether / IP / UDP 142.250.82.149:3478 > 172.18.9.104:65306 / Raw\n",
      "Ether / IP / UDP 172.18.9.104:65306 > 142.250.82.149:3478 / Raw\n",
      "Ether / IP / UDP 172.18.9.104:64361 > 142.250.82.149:3478 / Raw\n",
      "Ether / IP / UDP 172.18.9.104:64361 > 142.250.82.149:3478 / Raw\n",
      "Ether / IP / UDP 142.250.82.149:3478 > 172.18.9.104:64361 / Raw\n",
      "Ether / IP / UDP 142.250.82.149:3478 > 172.18.9.104:65306 / Raw\n",
      "Ether / IP / UDP 172.18.9.104:65306 > 142.250.82.149:3478 / Raw\n",
      "Ether / IP / UDP 172.18.9.104:64361 > 142.250.82.149:3478 / Raw\n",
      "Ether / IP / UDP 172.18.9.104:64361 > 142.250.82.149:3478 / Raw\n",
      "Ether / IP / UDP 172.18.9.104:64361 > 142.250.82.149:3478 / Raw\n",
      "Ether / IP / UDP 172.18.9.104:64361 > 142.250.82.149:3478 / Raw\n",
      "Ether / IP / UDP 172.18.9.104:64361 > 142.250.82.149:3478 / Raw\n",
      "Ether / IP / UDP 172.18.9.104:64361 > 142.250.82.149:3478 / Raw\n",
      "Ether / IP / UDP 172.18.9.104:64361 > 142.250.82.149:3478 / Raw\n",
      "Ether / IP / UDP 172.18.9.104:64361 > 142.250.82.149:3478 / Raw\n",
      "Ether / IP / UDP 172.18.9.104:65306 > 142.250.82.149:3478 / Raw\n",
      "Ether / IP / UDP 142.250.82.149:3478 > 172.18.9.104:64361 / Raw\n",
      "Ether / IP / UDP 172.18.9.104:64361 > 142.250.82.149:3478 / Raw\n",
      "Ether / IP / UDP 172.18.9.104:64361 > 142.250.82.149:3478 / Raw\n",
      "Ether / IP / UDP 172.18.9.104:64361 > 142.250.82.149:3478 / Raw\n",
      "Ether / IP / UDP 172.18.9.104:64361 > 142.250.82.149:3478 / Raw\n",
      "Ether / IP / UDP 142.250.82.149:3478 > 172.18.9.104:65306 / Raw\n",
      "Ether / IP / UDP 172.18.9.104:65306 > 142.250.82.149:3478 / Raw\n",
      "Ether / IP / UDP 172.18.9.104:64361 > 142.250.82.149:3478 / Raw\n",
      "Ether / IP / UDP 172.18.9.104:64361 > 142.250.82.149:3478 / Raw\n",
      "Ether / IP / UDP 172.18.9.104:64361 > 142.250.82.149:3478 / Raw\n",
      "Ether / IP / UDP 172.18.9.104:64361 > 142.250.82.149:3478 / Raw\n",
      "Ether / IP / UDP 172.18.9.104:64361 > 142.250.82.149:3478 / Raw\n",
      "Ether / IP / UDP 142.250.82.149:3478 > 172.18.9.104:64361 / Raw\n",
      "Ether / IP / UDP 142.250.82.149:3478 > 172.18.9.104:65306 / Raw\n",
      "Ether / IP / UDP 172.18.9.104:65306 > 142.250.82.149:3478 / Raw\n",
      "Ether / IP / UDP 172.18.9.104:64361 > 142.250.82.149:3478 / Raw\n",
      "Ether / IP / UDP 172.18.9.104:64361 > 142.250.82.149:3478 / Raw\n",
      "Ether / IP / UDP 172.18.9.104:64361 > 142.250.82.149:3478 / Raw\n",
      "Ether / IP / UDP 172.18.9.104:65306 > 142.250.82.149:3478 / Raw\n",
      "Ether / IP / TCP 204.79.197.239:https > 172.18.9.104:56317 RA\n",
      "Ether / IP / UDP 142.250.82.149:3478 > 172.18.9.104:64361 / Raw\n",
      "Ether / IP / UDP 172.18.9.104:64361 > 142.250.82.149:3478 / Raw\n",
      "Ether / IP / UDP 172.18.9.104:64361 > 142.250.82.149:3478 / Raw\n",
      "Ether / IP / UDP 172.18.9.104:64361 > 142.250.82.149:3478 / Raw\n",
      "Ether / IP / UDP 172.18.9.104:64361 > 142.250.82.149:3478 / Raw\n",
      "Ether / IP / UDP 172.18.9.104:64361 > 142.250.82.149:3478 / Raw\n",
      "Ether / IP / UDP 142.250.82.149:3478 > 172.18.9.104:65306 / Raw\n",
      "Ether / IP / UDP 172.18.9.104:65306 > 142.250.82.149:3478 / Raw\n",
      "Ether / IP / UDP 172.18.9.104:64361 > 142.250.82.149:3478 / Raw\n",
      "Ether / IP / UDP 172.18.9.104:64361 > 142.250.82.149:3478 / Raw\n",
      "Ether / IP / UDP 172.18.9.104:64361 > 142.250.82.149:3478 / Raw\n",
      "Ether / IP / UDP 172.18.9.104:64361 > 142.250.82.149:3478 / Raw\n",
      "Ether / IP / UDP 172.18.9.104:64361 > 142.250.82.149:3478 / Raw\n",
      "Ether / ARP who has 172.18.13.167 says 172.18.0.1\n",
      "Ether / IP / UDP 142.250.82.149:3478 > 172.18.9.104:64361 / Raw\n",
      "Ether / IP / UDP 142.250.82.149:3478 > 172.18.9.104:65306 / Raw\n"
     ]
    }
   ],
   "source": [
    "file.summary()"
   ]
  },
  {
   "cell_type": "code",
   "execution_count": null,
   "id": "96b748a5",
   "metadata": {},
   "outputs": [],
   "source": []
  }
 ],
 "metadata": {
  "kernelspec": {
   "display_name": "Python 3 (ipykernel)",
   "language": "python",
   "name": "python3"
  },
  "language_info": {
   "codemirror_mode": {
    "name": "ipython",
    "version": 3
   },
   "file_extension": ".py",
   "mimetype": "text/x-python",
   "name": "python",
   "nbconvert_exporter": "python",
   "pygments_lexer": "ipython3",
   "version": "3.9.13"
  }
 },
 "nbformat": 4,
 "nbformat_minor": 5
}
